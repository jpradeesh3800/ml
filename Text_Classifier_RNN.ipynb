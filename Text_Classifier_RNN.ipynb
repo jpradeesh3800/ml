{
  "nbformat": 4,
  "nbformat_minor": 0,
  "metadata": {
    "colab": {
      "name": "Text Classifier RNN.ipynb",
      "provenance": [],
      "collapsed_sections": [],
      "authorship_tag": "ABX9TyMoXNLEQzLsIfJht77gB8sq",
      "include_colab_link": true
    },
    "kernelspec": {
      "name": "python3",
      "display_name": "Python 3"
    },
    "accelerator": "GPU"
  },
  "cells": [
    {
      "cell_type": "markdown",
      "metadata": {
        "id": "view-in-github",
        "colab_type": "text"
      },
      "source": [
        "<a href=\"https://colab.research.google.com/github/jpradeesh3800/ml/blob/master/Text_Classifier_RNN.ipynb\" target=\"_parent\"><img src=\"https://colab.research.google.com/assets/colab-badge.svg\" alt=\"Open In Colab\"/></a>"
      ]
    },
    {
      "cell_type": "markdown",
      "metadata": {
        "id": "LtomT3PodquW",
        "colab_type": "text"
      },
      "source": [
        "*Make sure that you were familiar with word embeddings before you go through this*\n",
        "\n",
        "*else visit*\n",
        "\n",
        "https://github.com/jpradeesh3800/ml/blob/master/Word_Embeddings.ipynb"
      ]
    },
    {
      "cell_type": "code",
      "metadata": {
        "id": "qTCtHTj11ksw",
        "colab_type": "code",
        "outputId": "b4fc237a-d185-4b65-9d9e-997efc9649ff",
        "colab": {
          "base_uri": "https://localhost:8080/",
          "height": 1000
        }
      },
      "source": [
        "from __future__ import absolute_import, division, print_function, unicode_literals\n",
        "\n",
        "!pip install --upgrade pip\n",
        "!pip install gast==0.2.2\n",
        "!pip install tensorflow_federated==0.7.0\n",
        "!pip install -q tf-nightly\n",
        "\n",
        "import tensorflow as tf\n",
        "\n",
        "import numpy as np\n",
        "import os\n",
        "import time\n",
        "import tensorflow_datasets as tfds \n",
        "tfds.disable_progress_bar()\n",
        "\n",
        "tf.random.set_seed(1)"
      ],
      "execution_count": 0,
      "outputs": [
        {
          "output_type": "stream",
          "text": [
            "Collecting pip\n",
            "\u001b[?25l  Downloading https://files.pythonhosted.org/packages/54/0c/d01aa759fdc501a58f431eb594a17495f15b88da142ce14b5845662c13f3/pip-20.0.2-py2.py3-none-any.whl (1.4MB)\n",
            "\r\u001b[K     |▎                               | 10kB 17.3MB/s eta 0:00:01\r\u001b[K     |▌                               | 20kB 1.7MB/s eta 0:00:01\r\u001b[K     |▊                               | 30kB 2.6MB/s eta 0:00:01\r\u001b[K     |█                               | 40kB 1.7MB/s eta 0:00:01\r\u001b[K     |█▏                              | 51kB 2.1MB/s eta 0:00:01\r\u001b[K     |█▍                              | 61kB 2.5MB/s eta 0:00:01\r\u001b[K     |█▋                              | 71kB 2.9MB/s eta 0:00:01\r\u001b[K     |█▉                              | 81kB 3.3MB/s eta 0:00:01\r\u001b[K     |██                              | 92kB 3.7MB/s eta 0:00:01\r\u001b[K     |██▎                             | 102kB 2.8MB/s eta 0:00:01\r\u001b[K     |██▌                             | 112kB 2.8MB/s eta 0:00:01\r\u001b[K     |██▊                             | 122kB 2.8MB/s eta 0:00:01\r\u001b[K     |███                             | 133kB 2.8MB/s eta 0:00:01\r\u001b[K     |███▏                            | 143kB 2.8MB/s eta 0:00:01\r\u001b[K     |███▍                            | 153kB 2.8MB/s eta 0:00:01\r\u001b[K     |███▋                            | 163kB 2.8MB/s eta 0:00:01\r\u001b[K     |███▉                            | 174kB 2.8MB/s eta 0:00:01\r\u001b[K     |████                            | 184kB 2.8MB/s eta 0:00:01\r\u001b[K     |████▎                           | 194kB 2.8MB/s eta 0:00:01\r\u001b[K     |████▌                           | 204kB 2.8MB/s eta 0:00:01\r\u001b[K     |████▊                           | 215kB 2.8MB/s eta 0:00:01\r\u001b[K     |█████                           | 225kB 2.8MB/s eta 0:00:01\r\u001b[K     |█████▎                          | 235kB 2.8MB/s eta 0:00:01\r\u001b[K     |█████▌                          | 245kB 2.8MB/s eta 0:00:01\r\u001b[K     |█████▊                          | 256kB 2.8MB/s eta 0:00:01\r\u001b[K     |██████                          | 266kB 2.8MB/s eta 0:00:01\r\u001b[K     |██████▏                         | 276kB 2.8MB/s eta 0:00:01\r\u001b[K     |██████▍                         | 286kB 2.8MB/s eta 0:00:01\r\u001b[K     |██████▋                         | 296kB 2.8MB/s eta 0:00:01\r\u001b[K     |██████▉                         | 307kB 2.8MB/s eta 0:00:01\r\u001b[K     |███████                         | 317kB 2.8MB/s eta 0:00:01\r\u001b[K     |███████▎                        | 327kB 2.8MB/s eta 0:00:01\r\u001b[K     |███████▌                        | 337kB 2.8MB/s eta 0:00:01\r\u001b[K     |███████▊                        | 348kB 2.8MB/s eta 0:00:01\r\u001b[K     |████████                        | 358kB 2.8MB/s eta 0:00:01\r\u001b[K     |████████▏                       | 368kB 2.8MB/s eta 0:00:01\r\u001b[K     |████████▍                       | 378kB 2.8MB/s eta 0:00:01\r\u001b[K     |████████▋                       | 389kB 2.8MB/s eta 0:00:01\r\u001b[K     |████████▉                       | 399kB 2.8MB/s eta 0:00:01\r\u001b[K     |█████████                       | 409kB 2.8MB/s eta 0:00:01\r\u001b[K     |█████████▎                      | 419kB 2.8MB/s eta 0:00:01\r\u001b[K     |█████████▌                      | 430kB 2.8MB/s eta 0:00:01\r\u001b[K     |█████████▉                      | 440kB 2.8MB/s eta 0:00:01\r\u001b[K     |██████████                      | 450kB 2.8MB/s eta 0:00:01\r\u001b[K     |██████████▎                     | 460kB 2.8MB/s eta 0:00:01\r\u001b[K     |██████████▌                     | 471kB 2.8MB/s eta 0:00:01\r\u001b[K     |██████████▊                     | 481kB 2.8MB/s eta 0:00:01\r\u001b[K     |███████████                     | 491kB 2.8MB/s eta 0:00:01\r\u001b[K     |███████████▏                    | 501kB 2.8MB/s eta 0:00:01\r\u001b[K     |███████████▍                    | 512kB 2.8MB/s eta 0:00:01\r\u001b[K     |███████████▋                    | 522kB 2.8MB/s eta 0:00:01\r\u001b[K     |███████████▉                    | 532kB 2.8MB/s eta 0:00:01\r\u001b[K     |████████████                    | 542kB 2.8MB/s eta 0:00:01\r\u001b[K     |████████████▎                   | 552kB 2.8MB/s eta 0:00:01\r\u001b[K     |████████████▌                   | 563kB 2.8MB/s eta 0:00:01\r\u001b[K     |████████████▊                   | 573kB 2.8MB/s eta 0:00:01\r\u001b[K     |█████████████                   | 583kB 2.8MB/s eta 0:00:01\r\u001b[K     |█████████████▏                  | 593kB 2.8MB/s eta 0:00:01\r\u001b[K     |█████████████▍                  | 604kB 2.8MB/s eta 0:00:01\r\u001b[K     |█████████████▋                  | 614kB 2.8MB/s eta 0:00:01\r\u001b[K     |█████████████▉                  | 624kB 2.8MB/s eta 0:00:01\r\u001b[K     |██████████████                  | 634kB 2.8MB/s eta 0:00:01\r\u001b[K     |██████████████▎                 | 645kB 2.8MB/s eta 0:00:01\r\u001b[K     |██████████████▌                 | 655kB 2.8MB/s eta 0:00:01\r\u001b[K     |██████████████▉                 | 665kB 2.8MB/s eta 0:00:01\r\u001b[K     |███████████████                 | 675kB 2.8MB/s eta 0:00:01\r\u001b[K     |███████████████▎                | 686kB 2.8MB/s eta 0:00:01\r\u001b[K     |███████████████▌                | 696kB 2.8MB/s eta 0:00:01\r\u001b[K     |███████████████▊                | 706kB 2.8MB/s eta 0:00:01\r\u001b[K     |████████████████                | 716kB 2.8MB/s eta 0:00:01\r\u001b[K     |████████████████▏               | 727kB 2.8MB/s eta 0:00:01\r\u001b[K     |████████████████▍               | 737kB 2.8MB/s eta 0:00:01\r\u001b[K     |████████████████▋               | 747kB 2.8MB/s eta 0:00:01\r\u001b[K     |████████████████▉               | 757kB 2.8MB/s eta 0:00:01\r\u001b[K     |█████████████████               | 768kB 2.8MB/s eta 0:00:01\r\u001b[K     |█████████████████▎              | 778kB 2.8MB/s eta 0:00:01\r\u001b[K     |█████████████████▌              | 788kB 2.8MB/s eta 0:00:01\r\u001b[K     |█████████████████▊              | 798kB 2.8MB/s eta 0:00:01\r\u001b[K     |██████████████████              | 808kB 2.8MB/s eta 0:00:01\r\u001b[K     |██████████████████▏             | 819kB 2.8MB/s eta 0:00:01\r\u001b[K     |██████████████████▍             | 829kB 2.8MB/s eta 0:00:01\r\u001b[K     |██████████████████▋             | 839kB 2.8MB/s eta 0:00:01\r\u001b[K     |██████████████████▉             | 849kB 2.8MB/s eta 0:00:01\r\u001b[K     |███████████████████             | 860kB 2.8MB/s eta 0:00:01\r\u001b[K     |███████████████████▎            | 870kB 2.8MB/s eta 0:00:01\r\u001b[K     |███████████████████▋            | 880kB 2.8MB/s eta 0:00:01\r\u001b[K     |███████████████████▉            | 890kB 2.8MB/s eta 0:00:01\r\u001b[K     |████████████████████            | 901kB 2.8MB/s eta 0:00:01\r\u001b[K     |████████████████████▎           | 911kB 2.8MB/s eta 0:00:01\r\u001b[K     |████████████████████▌           | 921kB 2.8MB/s eta 0:00:01\r\u001b[K     |████████████████████▊           | 931kB 2.8MB/s eta 0:00:01\r\u001b[K     |█████████████████████           | 942kB 2.8MB/s eta 0:00:01\r\u001b[K     |█████████████████████▏          | 952kB 2.8MB/s eta 0:00:01\r\u001b[K     |█████████████████████▍          | 962kB 2.8MB/s eta 0:00:01\r\u001b[K     |█████████████████████▋          | 972kB 2.8MB/s eta 0:00:01\r\u001b[K     |█████████████████████▉          | 983kB 2.8MB/s eta 0:00:01\r\u001b[K     |██████████████████████          | 993kB 2.8MB/s eta 0:00:01\r\u001b[K     |██████████████████████▎         | 1.0MB 2.8MB/s eta 0:00:01\r\u001b[K     |██████████████████████▌         | 1.0MB 2.8MB/s eta 0:00:01\r\u001b[K     |██████████████████████▊         | 1.0MB 2.8MB/s eta 0:00:01\r\u001b[K     |███████████████████████         | 1.0MB 2.8MB/s eta 0:00:01\r\u001b[K     |███████████████████████▏        | 1.0MB 2.8MB/s eta 0:00:01\r\u001b[K     |███████████████████████▍        | 1.1MB 2.8MB/s eta 0:00:01\r\u001b[K     |███████████████████████▋        | 1.1MB 2.8MB/s eta 0:00:01\r\u001b[K     |███████████████████████▉        | 1.1MB 2.8MB/s eta 0:00:01\r\u001b[K     |████████████████████████        | 1.1MB 2.8MB/s eta 0:00:01\r\u001b[K     |████████████████████████▎       | 1.1MB 2.8MB/s eta 0:00:01\r\u001b[K     |████████████████████████▋       | 1.1MB 2.8MB/s eta 0:00:01\r\u001b[K     |████████████████████████▉       | 1.1MB 2.8MB/s eta 0:00:01\r\u001b[K     |█████████████████████████       | 1.1MB 2.8MB/s eta 0:00:01\r\u001b[K     |█████████████████████████▎      | 1.1MB 2.8MB/s eta 0:00:01\r\u001b[K     |█████████████████████████▌      | 1.1MB 2.8MB/s eta 0:00:01\r\u001b[K     |█████████████████████████▊      | 1.2MB 2.8MB/s eta 0:00:01\r\u001b[K     |██████████████████████████      | 1.2MB 2.8MB/s eta 0:00:01\r\u001b[K     |██████████████████████████▏     | 1.2MB 2.8MB/s eta 0:00:01\r\u001b[K     |██████████████████████████▍     | 1.2MB 2.8MB/s eta 0:00:01\r\u001b[K     |██████████████████████████▋     | 1.2MB 2.8MB/s eta 0:00:01\r\u001b[K     |██████████████████████████▉     | 1.2MB 2.8MB/s eta 0:00:01\r\u001b[K     |███████████████████████████     | 1.2MB 2.8MB/s eta 0:00:01\r\u001b[K     |███████████████████████████▎    | 1.2MB 2.8MB/s eta 0:00:01\r\u001b[K     |███████████████████████████▌    | 1.2MB 2.8MB/s eta 0:00:01\r\u001b[K     |███████████████████████████▊    | 1.2MB 2.8MB/s eta 0:00:01\r\u001b[K     |████████████████████████████    | 1.3MB 2.8MB/s eta 0:00:01\r\u001b[K     |████████████████████████████▏   | 1.3MB 2.8MB/s eta 0:00:01\r\u001b[K     |████████████████████████████▍   | 1.3MB 2.8MB/s eta 0:00:01\r\u001b[K     |████████████████████████████▋   | 1.3MB 2.8MB/s eta 0:00:01\r\u001b[K     |████████████████████████████▉   | 1.3MB 2.8MB/s eta 0:00:01\r\u001b[K     |█████████████████████████████   | 1.3MB 2.8MB/s eta 0:00:01\r\u001b[K     |█████████████████████████████▍  | 1.3MB 2.8MB/s eta 0:00:01\r\u001b[K     |█████████████████████████████▋  | 1.3MB 2.8MB/s eta 0:00:01\r\u001b[K     |█████████████████████████████▉  | 1.3MB 2.8MB/s eta 0:00:01\r\u001b[K     |██████████████████████████████  | 1.4MB 2.8MB/s eta 0:00:01\r\u001b[K     |██████████████████████████████▎ | 1.4MB 2.8MB/s eta 0:00:01\r\u001b[K     |██████████████████████████████▌ | 1.4MB 2.8MB/s eta 0:00:01\r\u001b[K     |██████████████████████████████▊ | 1.4MB 2.8MB/s eta 0:00:01\r\u001b[K     |███████████████████████████████ | 1.4MB 2.8MB/s eta 0:00:01\r\u001b[K     |███████████████████████████████▏| 1.4MB 2.8MB/s eta 0:00:01\r\u001b[K     |███████████████████████████████▍| 1.4MB 2.8MB/s eta 0:00:01\r\u001b[K     |███████████████████████████████▋| 1.4MB 2.8MB/s eta 0:00:01\r\u001b[K     |███████████████████████████████▉| 1.4MB 2.8MB/s eta 0:00:01\r\u001b[K     |████████████████████████████████| 1.4MB 2.8MB/s \n",
            "\u001b[?25hInstalling collected packages: pip\n",
            "  Found existing installation: pip 19.3.1\n",
            "    Uninstalling pip-19.3.1:\n",
            "      Successfully uninstalled pip-19.3.1\n",
            "Successfully installed pip-20.0.2\n",
            "Requirement already satisfied: gast==0.2.2 in /usr/local/lib/python3.6/dist-packages (0.2.2)\n",
            "Collecting tensorflow_federated==0.7.0\n",
            "  Downloading tensorflow_federated-0.7.0-py2.py3-none-any.whl (308 kB)\n",
            "\u001b[K     |████████████████████████████████| 308 kB 2.7 MB/s \n",
            "\u001b[?25hRequirement already satisfied: six~=1.10 in /usr/local/lib/python3.6/dist-packages (from tensorflow_federated==0.7.0) (1.12.0)\n",
            "Requirement already satisfied: portpicker in /usr/local/lib/python3.6/dist-packages (from tensorflow_federated==0.7.0) (1.3.1)\n",
            "Requirement already satisfied: numpy~=1.14 in /usr/local/lib/python3.6/dist-packages (from tensorflow_federated==0.7.0) (1.18.1)\n",
            "Collecting tf-nightly\n",
            "  Downloading tf_nightly-2.2.0.dev20200318-cp36-cp36m-manylinux2010_x86_64.whl (533.0 MB)\n",
            "\u001b[K     |████████████████████████████████| 533.0 MB 16 kB/s \n",
            "\u001b[?25hCollecting attrs~=18.2\n",
            "  Downloading attrs-18.2.0-py2.py3-none-any.whl (34 kB)\n",
            "Requirement already satisfied: h5py~=2.6 in /usr/local/lib/python3.6/dist-packages (from tensorflow_federated==0.7.0) (2.8.0)\n",
            "Collecting grpcio~=1.8.0\n",
            "  Downloading grpcio-1.8.6-cp36-cp36m-manylinux1_x86_64.whl (6.0 MB)\n",
            "\u001b[K     |████████████████████████████████| 6.0 MB 21.2 MB/s \n",
            "\u001b[?25hCollecting gast==0.3.3\n",
            "  Downloading gast-0.3.3-py2.py3-none-any.whl (9.7 kB)\n",
            "Requirement already satisfied: protobuf>=3.8.0 in /usr/local/lib/python3.6/dist-packages (from tf-nightly->tensorflow_federated==0.7.0) (3.10.0)\n",
            "Collecting tb-nightly<2.3.0a0,>=2.2.0a0\n",
            "  Downloading tb_nightly-2.2.0a20200318-py3-none-any.whl (2.8 MB)\n",
            "\u001b[K     |████████████████████████████████| 2.8 MB 46.0 MB/s \n",
            "\u001b[?25hRequirement already satisfied: wrapt>=1.11.1 in /usr/local/lib/python3.6/dist-packages (from tf-nightly->tensorflow_federated==0.7.0) (1.12.1)\n",
            "Requirement already satisfied: opt-einsum>=2.3.2 in /usr/local/lib/python3.6/dist-packages (from tf-nightly->tensorflow_federated==0.7.0) (3.2.0)\n",
            "Collecting tf-estimator-nightly\n",
            "  Downloading tf_estimator_nightly-2.3.0.dev2020031801-py2.py3-none-any.whl (454 kB)\n",
            "\u001b[K     |████████████████████████████████| 454 kB 47.2 MB/s \n",
            "\u001b[?25hCollecting astunparse==1.6.3\n",
            "  Downloading astunparse-1.6.3-py2.py3-none-any.whl (12 kB)\n",
            "Requirement already satisfied: google-pasta>=0.1.8 in /usr/local/lib/python3.6/dist-packages (from tf-nightly->tensorflow_federated==0.7.0) (0.1.8)\n",
            "Requirement already satisfied: absl-py>=0.7.0 in /usr/local/lib/python3.6/dist-packages (from tf-nightly->tensorflow_federated==0.7.0) (0.9.0)\n",
            "Requirement already satisfied: termcolor>=1.1.0 in /usr/local/lib/python3.6/dist-packages (from tf-nightly->tensorflow_federated==0.7.0) (1.1.0)\n",
            "Requirement already satisfied: scipy==1.4.1; python_version >= \"3\" in /usr/local/lib/python3.6/dist-packages (from tf-nightly->tensorflow_federated==0.7.0) (1.4.1)\n",
            "Requirement already satisfied: keras-preprocessing>=1.1.0 in /usr/local/lib/python3.6/dist-packages (from tf-nightly->tensorflow_federated==0.7.0) (1.1.0)\n",
            "Requirement already satisfied: wheel>=0.26; python_version >= \"3\" in /usr/local/lib/python3.6/dist-packages (from tf-nightly->tensorflow_federated==0.7.0) (0.34.2)\n",
            "Requirement already satisfied: setuptools in /usr/local/lib/python3.6/dist-packages (from protobuf>=3.8.0->tf-nightly->tensorflow_federated==0.7.0) (45.2.0)\n",
            "Requirement already satisfied: werkzeug>=0.11.15 in /usr/local/lib/python3.6/dist-packages (from tb-nightly<2.3.0a0,>=2.2.0a0->tf-nightly->tensorflow_federated==0.7.0) (1.0.0)\n",
            "Requirement already satisfied: google-auth<2,>=1.6.3 in /usr/local/lib/python3.6/dist-packages (from tb-nightly<2.3.0a0,>=2.2.0a0->tf-nightly->tensorflow_federated==0.7.0) (1.7.2)\n",
            "Requirement already satisfied: google-auth-oauthlib<0.5,>=0.4.1 in /usr/local/lib/python3.6/dist-packages (from tb-nightly<2.3.0a0,>=2.2.0a0->tf-nightly->tensorflow_federated==0.7.0) (0.4.1)\n",
            "Requirement already satisfied: requests<3,>=2.21.0 in /usr/local/lib/python3.6/dist-packages (from tb-nightly<2.3.0a0,>=2.2.0a0->tf-nightly->tensorflow_federated==0.7.0) (2.21.0)\n",
            "Requirement already satisfied: markdown>=2.6.8 in /usr/local/lib/python3.6/dist-packages (from tb-nightly<2.3.0a0,>=2.2.0a0->tf-nightly->tensorflow_federated==0.7.0) (3.2.1)\n",
            "Collecting tensorboard-plugin-wit>=1.6.0\n",
            "  Downloading tensorboard_plugin_wit-1.6.0.post2-py3-none-any.whl (775 kB)\n",
            "\u001b[K     |████████████████████████████████| 775 kB 49.2 MB/s \n",
            "\u001b[?25hRequirement already satisfied: pyasn1-modules>=0.2.1 in /usr/local/lib/python3.6/dist-packages (from google-auth<2,>=1.6.3->tb-nightly<2.3.0a0,>=2.2.0a0->tf-nightly->tensorflow_federated==0.7.0) (0.2.8)\n",
            "Requirement already satisfied: rsa<4.1,>=3.1.4 in /usr/local/lib/python3.6/dist-packages (from google-auth<2,>=1.6.3->tb-nightly<2.3.0a0,>=2.2.0a0->tf-nightly->tensorflow_federated==0.7.0) (4.0)\n",
            "Requirement already satisfied: cachetools<3.2,>=2.0.0 in /usr/local/lib/python3.6/dist-packages (from google-auth<2,>=1.6.3->tb-nightly<2.3.0a0,>=2.2.0a0->tf-nightly->tensorflow_federated==0.7.0) (3.1.1)\n",
            "Requirement already satisfied: requests-oauthlib>=0.7.0 in /usr/local/lib/python3.6/dist-packages (from google-auth-oauthlib<0.5,>=0.4.1->tb-nightly<2.3.0a0,>=2.2.0a0->tf-nightly->tensorflow_federated==0.7.0) (1.3.0)\n",
            "Requirement already satisfied: urllib3<1.25,>=1.21.1 in /usr/local/lib/python3.6/dist-packages (from requests<3,>=2.21.0->tb-nightly<2.3.0a0,>=2.2.0a0->tf-nightly->tensorflow_federated==0.7.0) (1.24.3)\n",
            "Requirement already satisfied: certifi>=2017.4.17 in /usr/local/lib/python3.6/dist-packages (from requests<3,>=2.21.0->tb-nightly<2.3.0a0,>=2.2.0a0->tf-nightly->tensorflow_federated==0.7.0) (2019.11.28)\n",
            "Requirement already satisfied: chardet<3.1.0,>=3.0.2 in /usr/local/lib/python3.6/dist-packages (from requests<3,>=2.21.0->tb-nightly<2.3.0a0,>=2.2.0a0->tf-nightly->tensorflow_federated==0.7.0) (3.0.4)\n",
            "Requirement already satisfied: idna<2.9,>=2.5 in /usr/local/lib/python3.6/dist-packages (from requests<3,>=2.21.0->tb-nightly<2.3.0a0,>=2.2.0a0->tf-nightly->tensorflow_federated==0.7.0) (2.8)\n",
            "Requirement already satisfied: pyasn1<0.5.0,>=0.4.6 in /usr/local/lib/python3.6/dist-packages (from pyasn1-modules>=0.2.1->google-auth<2,>=1.6.3->tb-nightly<2.3.0a0,>=2.2.0a0->tf-nightly->tensorflow_federated==0.7.0) (0.4.8)\n",
            "Requirement already satisfied: oauthlib>=3.0.0 in /usr/local/lib/python3.6/dist-packages (from requests-oauthlib>=0.7.0->google-auth-oauthlib<0.5,>=0.4.1->tb-nightly<2.3.0a0,>=2.2.0a0->tf-nightly->tensorflow_federated==0.7.0) (3.1.0)\n",
            "\u001b[31mERROR: tensorflow 1.15.0 has requirement gast==0.2.2, but you'll have gast 0.3.3 which is incompatible.\u001b[0m\n",
            "\u001b[31mERROR: datascience 0.10.6 has requirement folium==0.2.1, but you'll have folium 0.8.3 which is incompatible.\u001b[0m\n",
            "\u001b[31mERROR: tb-nightly 2.2.0a20200318 has requirement grpcio>=1.24.3, but you'll have grpcio 1.8.6 which is incompatible.\u001b[0m\n",
            "\u001b[31mERROR: tf-nightly 2.2.0.dev20200318 has requirement h5py<2.11.0,>=2.10.0, but you'll have h5py 2.8.0 which is incompatible.\u001b[0m\n",
            "Installing collected packages: gast, grpcio, tensorboard-plugin-wit, tb-nightly, tf-estimator-nightly, astunparse, tf-nightly, attrs, tensorflow-federated\n",
            "  Attempting uninstall: gast\n",
            "    Found existing installation: gast 0.2.2\n",
            "    Uninstalling gast-0.2.2:\n",
            "      Successfully uninstalled gast-0.2.2\n",
            "  Attempting uninstall: grpcio\n",
            "    Found existing installation: grpcio 1.24.3\n",
            "    Uninstalling grpcio-1.24.3:\n",
            "      Successfully uninstalled grpcio-1.24.3\n",
            "  Attempting uninstall: attrs\n",
            "    Found existing installation: attrs 19.3.0\n",
            "    Uninstalling attrs-19.3.0:\n",
            "      Successfully uninstalled attrs-19.3.0\n",
            "  Attempting uninstall: tensorflow-federated\n",
            "    Found existing installation: tensorflow-federated 0.12.0\n",
            "    Uninstalling tensorflow-federated-0.12.0:\n",
            "      Successfully uninstalled tensorflow-federated-0.12.0\n",
            "Successfully installed astunparse-1.6.3 attrs-18.2.0 gast-0.3.3 grpcio-1.8.6 tb-nightly-2.2.0a20200318 tensorboard-plugin-wit-1.6.0.post2 tensorflow-federated-0.7.0 tf-estimator-nightly-2.3.0.dev2020031801 tf-nightly-2.2.0.dev20200318\n"
          ],
          "name": "stdout"
        },
        {
          "output_type": "display_data",
          "data": {
            "application/vnd.colab-display-data+json": {
              "pip_warning": {
                "packages": [
                  "grpc"
                ]
              }
            }
          },
          "metadata": {
            "tags": []
          }
        },
        {
          "output_type": "stream",
          "text": [
            "\u001b[K     |████████████████████████████████| 2.9 MB 2.8 MB/s \n",
            "\u001b[?25h"
          ],
          "name": "stdout"
        }
      ]
    },
    {
      "cell_type": "code",
      "metadata": {
        "id": "GRAEDwKiDNSt",
        "colab_type": "code",
        "outputId": "caef3481-c1c3-4e6d-8947-f504300ad48d",
        "colab": {
          "base_uri": "https://localhost:8080/",
          "height": 34
        }
      },
      "source": [
        "tf.__version__"
      ],
      "execution_count": 0,
      "outputs": [
        {
          "output_type": "execute_result",
          "data": {
            "text/plain": [
              "'2.2.0-dev20200318'"
            ]
          },
          "metadata": {
            "tags": []
          },
          "execution_count": 2
        }
      ]
    },
    {
      "cell_type": "code",
      "metadata": {
        "id": "LGitsPVW-goG",
        "colab_type": "code",
        "outputId": "f0ee1cb1-4cfd-405b-83d2-c884fd89d864",
        "colab": {
          "base_uri": "https://localhost:8080/",
          "height": 121
        }
      },
      "source": [
        "dataset,info = tfds.load('imdb_reviews/subwords8k', with_info=True,\n",
        "                          as_supervised=True)"
      ],
      "execution_count": 0,
      "outputs": [
        {
          "output_type": "stream",
          "text": [
            "\u001b[1mDownloading and preparing dataset imdb_reviews/subwords8k/1.0.0 (download: 80.23 MiB, generated: Unknown size, total: 80.23 MiB) to /root/tensorflow_datasets/imdb_reviews/subwords8k/1.0.0...\u001b[0m\n",
            "Shuffling and writing examples to /root/tensorflow_datasets/imdb_reviews/subwords8k/1.0.0.incompleteZCCHAR/imdb_reviews-train.tfrecord\n",
            "Shuffling and writing examples to /root/tensorflow_datasets/imdb_reviews/subwords8k/1.0.0.incompleteZCCHAR/imdb_reviews-test.tfrecord\n",
            "Shuffling and writing examples to /root/tensorflow_datasets/imdb_reviews/subwords8k/1.0.0.incompleteZCCHAR/imdb_reviews-unsupervised.tfrecord\n",
            "\u001b[1mDataset imdb_reviews downloaded and prepared to /root/tensorflow_datasets/imdb_reviews/subwords8k/1.0.0. Subsequent calls will reuse this data.\u001b[0m\n"
          ],
          "name": "stdout"
        }
      ]
    },
    {
      "cell_type": "code",
      "metadata": {
        "id": "I1_jgwq7ARNU",
        "colab_type": "code",
        "outputId": "9c2d6645-b198-4b9b-b063-42e386eb1f9a",
        "colab": {
          "base_uri": "https://localhost:8080/",
          "height": 34
        }
      },
      "source": [
        "type(dataset)"
      ],
      "execution_count": 0,
      "outputs": [
        {
          "output_type": "execute_result",
          "data": {
            "text/plain": [
              "dict"
            ]
          },
          "metadata": {
            "tags": []
          },
          "execution_count": 4
        }
      ]
    },
    {
      "cell_type": "code",
      "metadata": {
        "id": "dB9cPh1GAUWS",
        "colab_type": "code",
        "outputId": "2f0e5c85-4ddb-4f65-a652-5fb370a3b6f5",
        "colab": {
          "base_uri": "https://localhost:8080/",
          "height": 67
        }
      },
      "source": [
        "dataset"
      ],
      "execution_count": 0,
      "outputs": [
        {
          "output_type": "execute_result",
          "data": {
            "text/plain": [
              "{'test': <DatasetV1Adapter shapes: ((None,), ()), types: (tf.int64, tf.int64)>,\n",
              " 'train': <DatasetV1Adapter shapes: ((None,), ()), types: (tf.int64, tf.int64)>,\n",
              " 'unsupervised': <DatasetV1Adapter shapes: ((None,), ()), types: (tf.int64, tf.int64)>}"
            ]
          },
          "metadata": {
            "tags": []
          },
          "execution_count": 5
        }
      ]
    },
    {
      "cell_type": "code",
      "metadata": {
        "id": "lwxSkfsRC3uP",
        "colab_type": "code",
        "colab": {}
      },
      "source": [
        "train_data = dataset['train']\n",
        "test_data = dataset['test']"
      ],
      "execution_count": 0,
      "outputs": []
    },
    {
      "cell_type": "code",
      "metadata": {
        "id": "OUnzeRTgde81",
        "colab_type": "code",
        "colab": {}
      },
      "source": [
        "encoder = info.features['text'].encoder"
      ],
      "execution_count": 0,
      "outputs": []
    },
    {
      "cell_type": "code",
      "metadata": {
        "id": "01OpRTn3_s3g",
        "colab_type": "code",
        "colab": {}
      },
      "source": [
        "train_batches = train_data.shuffle(1000).padded_batch(32)\n",
        "test_batches = test_data.padded_batch(32)"
      ],
      "execution_count": 0,
      "outputs": []
    },
    {
      "cell_type": "markdown",
      "metadata": {
        "id": "pweWq1j-5PzK",
        "colab_type": "text"
      },
      "source": [
        "*If we are not using sigmoid or softmax at the output layer,then we will get a value ranging from -inf to +inf*\n",
        "\n",
        "*Hence, By using from_logits=True , Probability of 0.5 corresponds to a logit of 0. Negative logit correspond to probabilities less than 0.5, positive to > 0.5.*\n",
        "\n",
        "*Logits also sometimes refer to the element-wise inverse of the sigmoid function.*"
      ]
    },
    {
      "cell_type": "code",
      "metadata": {
        "id": "FIouU3aCC_QR",
        "colab_type": "code",
        "outputId": "a91977bf-db79-4e3e-96f5-0ef13f0ca406",
        "colab": {
          "base_uri": "https://localhost:8080/",
          "height": 353
        }
      },
      "source": [
        "model1 = tf.keras.Sequential([\n",
        "                             tf.keras.layers.Embedding(encoder.vocab_size,32),\n",
        "                             tf.keras.layers.Bidirectional(tf.keras.layers.LSTM(32)),\n",
        "                             tf.keras.layers.Dense(32,activation='relu'),\n",
        "                             tf.keras.layers.Dense(1)\n",
        "])\n",
        "model1.compile(\n",
        "    optimizer='adam',\n",
        "    loss=tf.keras.losses.BinaryCrossentropy(from_logits=True),\n",
        "    metrics=['accuracy']\n",
        ")\n",
        "\n",
        "history1 = model1.fit(\n",
        "    train_batches,\n",
        "    # validation_split=0.3,\n",
        "    validation_data=test_batches,\n",
        "    epochs=10,\n",
        "          )"
      ],
      "execution_count": 0,
      "outputs": [
        {
          "output_type": "stream",
          "text": [
            "Epoch 1/10\n",
            "782/782 [==============================] - 97s 124ms/step - loss: 0.5437 - accuracy: 0.6989 - val_loss: 0.7032 - val_accuracy: 0.7418\n",
            "Epoch 2/10\n",
            "782/782 [==============================] - 98s 125ms/step - loss: 0.4140 - accuracy: 0.8148 - val_loss: 0.4750 - val_accuracy: 0.7708\n",
            "Epoch 3/10\n",
            "782/782 [==============================] - 97s 124ms/step - loss: 0.3002 - accuracy: 0.8788 - val_loss: 0.3885 - val_accuracy: 0.8267\n",
            "Epoch 4/10\n",
            "782/782 [==============================] - 96s 123ms/step - loss: 0.2657 - accuracy: 0.8948 - val_loss: 0.4130 - val_accuracy: 0.8325\n",
            "Epoch 5/10\n",
            "782/782 [==============================] - 101s 129ms/step - loss: 0.3470 - accuracy: 0.8499 - val_loss: 0.5897 - val_accuracy: 0.7824\n",
            "Epoch 6/10\n",
            "782/782 [==============================] - 102s 130ms/step - loss: 0.2364 - accuracy: 0.9031 - val_loss: 0.4655 - val_accuracy: 0.8183\n",
            "Epoch 7/10\n",
            "782/782 [==============================] - 101s 129ms/step - loss: 0.1769 - accuracy: 0.9330 - val_loss: 0.4862 - val_accuracy: 0.8134\n",
            "Epoch 8/10\n",
            "782/782 [==============================] - 99s 126ms/step - loss: 0.1774 - accuracy: 0.9316 - val_loss: 0.5636 - val_accuracy: 0.8228\n",
            "Epoch 9/10\n",
            "782/782 [==============================] - 98s 125ms/step - loss: 0.2033 - accuracy: 0.9173 - val_loss: 0.5593 - val_accuracy: 0.7873\n",
            "Epoch 10/10\n",
            "782/782 [==============================] - 102s 130ms/step - loss: 0.1780 - accuracy: 0.9289 - val_loss: 0.5839 - val_accuracy: 0.8038\n"
          ],
          "name": "stdout"
        }
      ]
    },
    {
      "cell_type": "code",
      "metadata": {
        "id": "YJUj9nWBfIMf",
        "colab_type": "code",
        "outputId": "d42c5d85-435f-4caf-bb25-a7492c0f1cbf",
        "colab": {
          "base_uri": "https://localhost:8080/",
          "height": 334
        }
      },
      "source": [
        "import matplotlib.pyplot as plt\n",
        "def plot_graph(history):\n",
        "    hist = history.history\n",
        "    hist['epochs'] = history.epoch\n",
        "    plt.figure(figsize=(10,5))\n",
        "\n",
        "    plt.subplot(1,2,1)\n",
        "    plt.plot(hist['epochs'],hist['loss'],color='b')\n",
        "    plt.plot(hist['epochs'],hist['val_loss'],color='r')\n",
        "    plt.legend(['loss','val_loss'])\n",
        "    plt.xlabel(\"epochs\")\n",
        "\n",
        "    plt.subplot(1,2,2)\n",
        "    plt.plot(hist['epochs'],hist['accuracy'],color='b')\n",
        "    plt.plot(hist['epochs'],hist['val_accuracy'],color='r')\n",
        "    plt.legend(['accuracy','val_accuracy'])\n",
        "    plt.xlabel(\"epochs\")\n",
        "\n",
        "    plt.show()\n",
        "\n",
        "plot_graph(history1)"
      ],
      "execution_count": 0,
      "outputs": [
        {
          "output_type": "display_data",
          "data": {
            "image/png": "[encoded data removed]",
            "text/plain": [
              "<Figure size 720x360 with 2 Axes>"
            ]
          },
          "metadata": {
            "tags": []
          }
        }
      ]
    },
    {
      "cell_type": "code",
      "metadata": {
        "id": "rimuB-Dbls2J",
        "colab_type": "code",
        "outputId": "f791bb7a-9859-4a6b-cdf2-18904eb6f51b",
        "colab": {
          "base_uri": "https://localhost:8080/",
          "height": 353
        }
      },
      "source": [
        "model2 = tf.keras.Sequential([\n",
        "                             tf.keras.layers.Embedding(encoder.vocab_size,64),\n",
        "                             tf.keras.layers.Bidirectional(tf.keras.layers.LSTM(64)),\n",
        "                             tf.keras.layers.Dense(64,activation='relu'),\n",
        "                             tf.keras.layers.Dense(1)\n",
        "])\n",
        "model2.compile(\n",
        "    optimizer='adam',\n",
        "    loss=tf.keras.losses.BinaryCrossentropy(from_logits=True),\n",
        "    metrics=['accuracy']\n",
        ")\n",
        "\n",
        "history2 = model2.fit(\n",
        "    train_batches,\n",
        "    # validation_split=0.3,\n",
        "    validation_data=test_batches,\n",
        "    epochs=10,\n",
        "          )"
      ],
      "execution_count": 0,
      "outputs": [
        {
          "output_type": "stream",
          "text": [
            "Epoch 1/10\n",
            "782/782 [==============================] - 110s 140ms/step - loss: 0.6366 - accuracy: 0.6051 - val_loss: 0.6838 - val_accuracy: 0.5206\n",
            "Epoch 2/10\n",
            "782/782 [==============================] - 111s 141ms/step - loss: 0.6024 - accuracy: 0.6387 - val_loss: 0.5957 - val_accuracy: 0.6574\n",
            "Epoch 3/10\n",
            "782/782 [==============================] - 111s 142ms/step - loss: 0.3992 - accuracy: 0.8283 - val_loss: 0.4080 - val_accuracy: 0.8364\n",
            "Epoch 4/10\n",
            "782/782 [==============================] - 112s 143ms/step - loss: 0.2726 - accuracy: 0.8891 - val_loss: 0.3627 - val_accuracy: 0.8438\n",
            "Epoch 5/10\n",
            "782/782 [==============================] - 112s 143ms/step - loss: 0.2111 - accuracy: 0.9171 - val_loss: 0.3636 - val_accuracy: 0.8643\n",
            "Epoch 6/10\n",
            "782/782 [==============================] - 112s 143ms/step - loss: 0.1640 - accuracy: 0.9383 - val_loss: 0.4065 - val_accuracy: 0.8639\n",
            "Epoch 7/10\n",
            "782/782 [==============================] - 114s 145ms/step - loss: 0.1157 - accuracy: 0.9594 - val_loss: 0.4393 - val_accuracy: 0.8620\n",
            "Epoch 8/10\n",
            "782/782 [==============================] - 113s 145ms/step - loss: 0.0828 - accuracy: 0.9718 - val_loss: 0.5041 - val_accuracy: 0.8632\n",
            "Epoch 9/10\n",
            "782/782 [==============================] - 113s 144ms/step - loss: 0.0534 - accuracy: 0.9842 - val_loss: 0.6677 - val_accuracy: 0.8559\n",
            "Epoch 10/10\n",
            "782/782 [==============================] - 112s 143ms/step - loss: 0.0428 - accuracy: 0.9871 - val_loss: 0.6319 - val_accuracy: 0.8531\n"
          ],
          "name": "stdout"
        }
      ]
    },
    {
      "cell_type": "code",
      "metadata": {
        "id": "k5QsUPY1nc9G",
        "colab_type": "code",
        "outputId": "91787ef3-729f-4202-8543-a1eff3c68fa5",
        "colab": {
          "base_uri": "https://localhost:8080/",
          "height": 334
        }
      },
      "source": [
        "plot_graph(history2)"
      ],
      "execution_count": 0,
      "outputs": [
        {
          "output_type": "display_data",
          "data": {
            "image/png": "[encoded data removed]",
            "text/plain": [
              "<Figure size 720x360 with 2 Axes>"
            ]
          },
          "metadata": {
            "tags": []
          }
        }
      ]
    },
    {
      "cell_type": "code",
      "metadata": {
        "id": "Q_RcB_9cngHO",
        "colab_type": "code",
        "colab": {}
      },
      "source": [
        ""
      ],
      "execution_count": 0,
      "outputs": []
    }
  ]
}