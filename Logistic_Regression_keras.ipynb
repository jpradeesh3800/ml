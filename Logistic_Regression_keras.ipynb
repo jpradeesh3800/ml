{
  "nbformat": 4,
  "nbformat_minor": 0,
  "metadata": {
    "colab": {
      "name": "Logistic Regression keras.ipynb",
      "provenance": [],
      "authorship_tag": "ABX9TyMw38h4PCPGG5iRc5o3Udwf",
      "include_colab_link": true
    },
    "kernelspec": {
      "name": "python3",
      "display_name": "Python 3"
    }
  },
  "cells": [
    {
      "cell_type": "markdown",
      "metadata": {
        "id": "view-in-github",
        "colab_type": "text"
      },
      "source": [
        "<a href=\"https://colab.research.google.com/github/jpradeesh3800/ml/blob/master/Logistic_Regression_keras.ipynb\" target=\"_parent\"><img src=\"https://colab.research.google.com/assets/colab-badge.svg\" alt=\"Open In Colab\"/></a>"
      ]
    },
    {
      "cell_type": "code",
      "metadata": {
        "id": "88NzAPNtjbg-",
        "colab_type": "code",
        "colab": {}
      },
      "source": [
        "import pandas as pd\n",
        "import numpy as np\n",
        "import tensorflow as tf"
      ],
      "execution_count": 0,
      "outputs": []
    },
    {
      "cell_type": "code",
      "metadata": {
        "id": "5HP1yEEcnlge",
        "colab_type": "code",
        "colab": {}
      },
      "source": [
        "df_train = pd.read_csv(\"https://storage.googleapis.com/download.tensorflow.org/data/iris_training.csv\")\n",
        "df_test = pd.read_csv(\"https://storage.googleapis.com/download.tensorflow.org/data/iris_test.csv\")"
      ],
      "execution_count": 0,
      "outputs": []
    },
    {
      "cell_type": "code",
      "metadata": {
        "id": "v1sYQ529pkqx",
        "colab_type": "code",
        "colab": {
          "base_uri": "https://localhost:8080/",
          "height": 195
        },
        "outputId": "02316ec1-d59f-4f63-94a9-431cac5e01ee"
      },
      "source": [
        "df_train.head()"
      ],
      "execution_count": 48,
      "outputs": [
        {
          "output_type": "execute_result",
          "data": {
            "text/html": [
              "<div>\n",
              "<style scoped>\n",
              "    .dataframe tbody tr th:only-of-type {\n",
              "        vertical-align: middle;\n",
              "    }\n",
              "\n",
              "    .dataframe tbody tr th {\n",
              "        vertical-align: top;\n",
              "    }\n",
              "\n",
              "    .dataframe thead th {\n",
              "        text-align: right;\n",
              "    }\n",
              "</style>\n",
              "<table border=\"1\" class=\"dataframe\">\n",
              "  <thead>\n",
              "    <tr style=\"text-align: right;\">\n",
              "      <th></th>\n",
              "      <th>120</th>\n",
              "      <th>4</th>\n",
              "      <th>setosa</th>\n",
              "      <th>versicolor</th>\n",
              "      <th>virginica</th>\n",
              "    </tr>\n",
              "  </thead>\n",
              "  <tbody>\n",
              "    <tr>\n",
              "      <th>0</th>\n",
              "      <td>6.4</td>\n",
              "      <td>2.8</td>\n",
              "      <td>5.6</td>\n",
              "      <td>2.2</td>\n",
              "      <td>2</td>\n",
              "    </tr>\n",
              "    <tr>\n",
              "      <th>1</th>\n",
              "      <td>5.0</td>\n",
              "      <td>2.3</td>\n",
              "      <td>3.3</td>\n",
              "      <td>1.0</td>\n",
              "      <td>1</td>\n",
              "    </tr>\n",
              "    <tr>\n",
              "      <th>2</th>\n",
              "      <td>4.9</td>\n",
              "      <td>2.5</td>\n",
              "      <td>4.5</td>\n",
              "      <td>1.7</td>\n",
              "      <td>2</td>\n",
              "    </tr>\n",
              "    <tr>\n",
              "      <th>3</th>\n",
              "      <td>4.9</td>\n",
              "      <td>3.1</td>\n",
              "      <td>1.5</td>\n",
              "      <td>0.1</td>\n",
              "      <td>0</td>\n",
              "    </tr>\n",
              "    <tr>\n",
              "      <th>4</th>\n",
              "      <td>5.7</td>\n",
              "      <td>3.8</td>\n",
              "      <td>1.7</td>\n",
              "      <td>0.3</td>\n",
              "      <td>0</td>\n",
              "    </tr>\n",
              "  </tbody>\n",
              "</table>\n",
              "</div>"
            ],
            "text/plain": [
              "   120    4  setosa  versicolor  virginica\n",
              "0  6.4  2.8     5.6         2.2          2\n",
              "1  5.0  2.3     3.3         1.0          1\n",
              "2  4.9  2.5     4.5         1.7          2\n",
              "3  4.9  3.1     1.5         0.1          0\n",
              "4  5.7  3.8     1.7         0.3          0"
            ]
          },
          "metadata": {
            "tags": []
          },
          "execution_count": 48
        }
      ]
    },
    {
      "cell_type": "code",
      "metadata": {
        "id": "mqkdkYcapoAM",
        "colab_type": "code",
        "colab": {
          "base_uri": "https://localhost:8080/",
          "height": 195
        },
        "outputId": "f340068c-9a63-46c5-f510-20ae7d8a64f2"
      },
      "source": [
        "column_names = ['sepal_length', 'sepal_width', 'petal_length', 'petal_width', 'species']\n",
        "df_train = pd.DataFrame(np.array(df_train),columns =column_names )\n",
        "df_train.head()"
      ],
      "execution_count": 49,
      "outputs": [
        {
          "output_type": "execute_result",
          "data": {
            "text/html": [
              "<div>\n",
              "<style scoped>\n",
              "    .dataframe tbody tr th:only-of-type {\n",
              "        vertical-align: middle;\n",
              "    }\n",
              "\n",
              "    .dataframe tbody tr th {\n",
              "        vertical-align: top;\n",
              "    }\n",
              "\n",
              "    .dataframe thead th {\n",
              "        text-align: right;\n",
              "    }\n",
              "</style>\n",
              "<table border=\"1\" class=\"dataframe\">\n",
              "  <thead>\n",
              "    <tr style=\"text-align: right;\">\n",
              "      <th></th>\n",
              "      <th>sepal_length</th>\n",
              "      <th>sepal_width</th>\n",
              "      <th>petal_length</th>\n",
              "      <th>petal_width</th>\n",
              "      <th>species</th>\n",
              "    </tr>\n",
              "  </thead>\n",
              "  <tbody>\n",
              "    <tr>\n",
              "      <th>0</th>\n",
              "      <td>6.4</td>\n",
              "      <td>2.8</td>\n",
              "      <td>5.6</td>\n",
              "      <td>2.2</td>\n",
              "      <td>2.0</td>\n",
              "    </tr>\n",
              "    <tr>\n",
              "      <th>1</th>\n",
              "      <td>5.0</td>\n",
              "      <td>2.3</td>\n",
              "      <td>3.3</td>\n",
              "      <td>1.0</td>\n",
              "      <td>1.0</td>\n",
              "    </tr>\n",
              "    <tr>\n",
              "      <th>2</th>\n",
              "      <td>4.9</td>\n",
              "      <td>2.5</td>\n",
              "      <td>4.5</td>\n",
              "      <td>1.7</td>\n",
              "      <td>2.0</td>\n",
              "    </tr>\n",
              "    <tr>\n",
              "      <th>3</th>\n",
              "      <td>4.9</td>\n",
              "      <td>3.1</td>\n",
              "      <td>1.5</td>\n",
              "      <td>0.1</td>\n",
              "      <td>0.0</td>\n",
              "    </tr>\n",
              "    <tr>\n",
              "      <th>4</th>\n",
              "      <td>5.7</td>\n",
              "      <td>3.8</td>\n",
              "      <td>1.7</td>\n",
              "      <td>0.3</td>\n",
              "      <td>0.0</td>\n",
              "    </tr>\n",
              "  </tbody>\n",
              "</table>\n",
              "</div>"
            ],
            "text/plain": [
              "   sepal_length  sepal_width  petal_length  petal_width  species\n",
              "0           6.4          2.8           5.6          2.2      2.0\n",
              "1           5.0          2.3           3.3          1.0      1.0\n",
              "2           4.9          2.5           4.5          1.7      2.0\n",
              "3           4.9          3.1           1.5          0.1      0.0\n",
              "4           5.7          3.8           1.7          0.3      0.0"
            ]
          },
          "metadata": {
            "tags": []
          },
          "execution_count": 49
        }
      ]
    },
    {
      "cell_type": "code",
      "metadata": {
        "id": "JZcrwUUnquvX",
        "colab_type": "code",
        "colab": {
          "base_uri": "https://localhost:8080/",
          "height": 195
        },
        "outputId": "a06463df-d614-4de8-d35e-d88ab98c3f87"
      },
      "source": [
        "df_test = pd.DataFrame(np.array(df_train),columns =column_names )\n",
        "df_test.head()"
      ],
      "execution_count": 50,
      "outputs": [
        {
          "output_type": "execute_result",
          "data": {
            "text/html": [
              "<div>\n",
              "<style scoped>\n",
              "    .dataframe tbody tr th:only-of-type {\n",
              "        vertical-align: middle;\n",
              "    }\n",
              "\n",
              "    .dataframe tbody tr th {\n",
              "        vertical-align: top;\n",
              "    }\n",
              "\n",
              "    .dataframe thead th {\n",
              "        text-align: right;\n",
              "    }\n",
              "</style>\n",
              "<table border=\"1\" class=\"dataframe\">\n",
              "  <thead>\n",
              "    <tr style=\"text-align: right;\">\n",
              "      <th></th>\n",
              "      <th>sepal_length</th>\n",
              "      <th>sepal_width</th>\n",
              "      <th>petal_length</th>\n",
              "      <th>petal_width</th>\n",
              "      <th>species</th>\n",
              "    </tr>\n",
              "  </thead>\n",
              "  <tbody>\n",
              "    <tr>\n",
              "      <th>0</th>\n",
              "      <td>6.4</td>\n",
              "      <td>2.8</td>\n",
              "      <td>5.6</td>\n",
              "      <td>2.2</td>\n",
              "      <td>2.0</td>\n",
              "    </tr>\n",
              "    <tr>\n",
              "      <th>1</th>\n",
              "      <td>5.0</td>\n",
              "      <td>2.3</td>\n",
              "      <td>3.3</td>\n",
              "      <td>1.0</td>\n",
              "      <td>1.0</td>\n",
              "    </tr>\n",
              "    <tr>\n",
              "      <th>2</th>\n",
              "      <td>4.9</td>\n",
              "      <td>2.5</td>\n",
              "      <td>4.5</td>\n",
              "      <td>1.7</td>\n",
              "      <td>2.0</td>\n",
              "    </tr>\n",
              "    <tr>\n",
              "      <th>3</th>\n",
              "      <td>4.9</td>\n",
              "      <td>3.1</td>\n",
              "      <td>1.5</td>\n",
              "      <td>0.1</td>\n",
              "      <td>0.0</td>\n",
              "    </tr>\n",
              "    <tr>\n",
              "      <th>4</th>\n",
              "      <td>5.7</td>\n",
              "      <td>3.8</td>\n",
              "      <td>1.7</td>\n",
              "      <td>0.3</td>\n",
              "      <td>0.0</td>\n",
              "    </tr>\n",
              "  </tbody>\n",
              "</table>\n",
              "</div>"
            ],
            "text/plain": [
              "   sepal_length  sepal_width  petal_length  petal_width  species\n",
              "0           6.4          2.8           5.6          2.2      2.0\n",
              "1           5.0          2.3           3.3          1.0      1.0\n",
              "2           4.9          2.5           4.5          1.7      2.0\n",
              "3           4.9          3.1           1.5          0.1      0.0\n",
              "4           5.7          3.8           1.7          0.3      0.0"
            ]
          },
          "metadata": {
            "tags": []
          },
          "execution_count": 50
        }
      ]
    },
    {
      "cell_type": "code",
      "metadata": {
        "id": "esZXy0cHrhiY",
        "colab_type": "code",
        "colab": {
          "base_uri": "https://localhost:8080/",
          "height": 84
        },
        "outputId": "b8b34f75-6bc8-41b0-b989-38fa847d5fba"
      },
      "source": [
        "df_train.species.value_counts()"
      ],
      "execution_count": 51,
      "outputs": [
        {
          "output_type": "execute_result",
          "data": {
            "text/plain": [
              "0.0    42\n",
              "2.0    42\n",
              "1.0    36\n",
              "Name: species, dtype: int64"
            ]
          },
          "metadata": {
            "tags": []
          },
          "execution_count": 51
        }
      ]
    },
    {
      "cell_type": "code",
      "metadata": {
        "id": "5mT3J0B0rtZz",
        "colab_type": "code",
        "colab": {
          "base_uri": "https://localhost:8080/",
          "height": 284
        },
        "outputId": "f01fd662-be90-44c6-8424-5db56547f6a3"
      },
      "source": [
        "df_train.describe()"
      ],
      "execution_count": 52,
      "outputs": [
        {
          "output_type": "execute_result",
          "data": {
            "text/html": [
              "<div>\n",
              "<style scoped>\n",
              "    .dataframe tbody tr th:only-of-type {\n",
              "        vertical-align: middle;\n",
              "    }\n",
              "\n",
              "    .dataframe tbody tr th {\n",
              "        vertical-align: top;\n",
              "    }\n",
              "\n",
              "    .dataframe thead th {\n",
              "        text-align: right;\n",
              "    }\n",
              "</style>\n",
              "<table border=\"1\" class=\"dataframe\">\n",
              "  <thead>\n",
              "    <tr style=\"text-align: right;\">\n",
              "      <th></th>\n",
              "      <th>sepal_length</th>\n",
              "      <th>sepal_width</th>\n",
              "      <th>petal_length</th>\n",
              "      <th>petal_width</th>\n",
              "      <th>species</th>\n",
              "    </tr>\n",
              "  </thead>\n",
              "  <tbody>\n",
              "    <tr>\n",
              "      <th>count</th>\n",
              "      <td>120.000000</td>\n",
              "      <td>120.000000</td>\n",
              "      <td>120.000000</td>\n",
              "      <td>120.000000</td>\n",
              "      <td>120.000000</td>\n",
              "    </tr>\n",
              "    <tr>\n",
              "      <th>mean</th>\n",
              "      <td>5.845000</td>\n",
              "      <td>3.065000</td>\n",
              "      <td>3.739167</td>\n",
              "      <td>1.196667</td>\n",
              "      <td>1.000000</td>\n",
              "    </tr>\n",
              "    <tr>\n",
              "      <th>std</th>\n",
              "      <td>0.868578</td>\n",
              "      <td>0.427156</td>\n",
              "      <td>1.822100</td>\n",
              "      <td>0.782039</td>\n",
              "      <td>0.840168</td>\n",
              "    </tr>\n",
              "    <tr>\n",
              "      <th>min</th>\n",
              "      <td>4.400000</td>\n",
              "      <td>2.000000</td>\n",
              "      <td>1.000000</td>\n",
              "      <td>0.100000</td>\n",
              "      <td>0.000000</td>\n",
              "    </tr>\n",
              "    <tr>\n",
              "      <th>25%</th>\n",
              "      <td>5.075000</td>\n",
              "      <td>2.800000</td>\n",
              "      <td>1.500000</td>\n",
              "      <td>0.300000</td>\n",
              "      <td>0.000000</td>\n",
              "    </tr>\n",
              "    <tr>\n",
              "      <th>50%</th>\n",
              "      <td>5.800000</td>\n",
              "      <td>3.000000</td>\n",
              "      <td>4.400000</td>\n",
              "      <td>1.300000</td>\n",
              "      <td>1.000000</td>\n",
              "    </tr>\n",
              "    <tr>\n",
              "      <th>75%</th>\n",
              "      <td>6.425000</td>\n",
              "      <td>3.300000</td>\n",
              "      <td>5.100000</td>\n",
              "      <td>1.800000</td>\n",
              "      <td>2.000000</td>\n",
              "    </tr>\n",
              "    <tr>\n",
              "      <th>max</th>\n",
              "      <td>7.900000</td>\n",
              "      <td>4.400000</td>\n",
              "      <td>6.900000</td>\n",
              "      <td>2.500000</td>\n",
              "      <td>2.000000</td>\n",
              "    </tr>\n",
              "  </tbody>\n",
              "</table>\n",
              "</div>"
            ],
            "text/plain": [
              "       sepal_length  sepal_width  petal_length  petal_width     species\n",
              "count    120.000000   120.000000    120.000000   120.000000  120.000000\n",
              "mean       5.845000     3.065000      3.739167     1.196667    1.000000\n",
              "std        0.868578     0.427156      1.822100     0.782039    0.840168\n",
              "min        4.400000     2.000000      1.000000     0.100000    0.000000\n",
              "25%        5.075000     2.800000      1.500000     0.300000    0.000000\n",
              "50%        5.800000     3.000000      4.400000     1.300000    1.000000\n",
              "75%        6.425000     3.300000      5.100000     1.800000    2.000000\n",
              "max        7.900000     4.400000      6.900000     2.500000    2.000000"
            ]
          },
          "metadata": {
            "tags": []
          },
          "execution_count": 52
        }
      ]
    },
    {
      "cell_type": "markdown",
      "metadata": {
        "id": "sMsXKN94uGbe",
        "colab_type": "text"
      },
      "source": [
        "*When the labels are not one hot encoded , we can use sparse_categorical_crossentropy else categorical_crossentropy*"
      ]
    },
    {
      "cell_type": "code",
      "metadata": {
        "id": "Qu0hoRH8utWC",
        "colab_type": "code",
        "colab": {
          "base_uri": "https://localhost:8080/",
          "height": 195
        },
        "outputId": "56022472-5b59-4d6c-d273-2356be75bd16"
      },
      "source": [
        "train_X = df_train[column_names]\n",
        "train_Y = train_X.pop(\"species\")\n",
        "train_X.head()"
      ],
      "execution_count": 53,
      "outputs": [
        {
          "output_type": "execute_result",
          "data": {
            "text/html": [
              "<div>\n",
              "<style scoped>\n",
              "    .dataframe tbody tr th:only-of-type {\n",
              "        vertical-align: middle;\n",
              "    }\n",
              "\n",
              "    .dataframe tbody tr th {\n",
              "        vertical-align: top;\n",
              "    }\n",
              "\n",
              "    .dataframe thead th {\n",
              "        text-align: right;\n",
              "    }\n",
              "</style>\n",
              "<table border=\"1\" class=\"dataframe\">\n",
              "  <thead>\n",
              "    <tr style=\"text-align: right;\">\n",
              "      <th></th>\n",
              "      <th>sepal_length</th>\n",
              "      <th>sepal_width</th>\n",
              "      <th>petal_length</th>\n",
              "      <th>petal_width</th>\n",
              "    </tr>\n",
              "  </thead>\n",
              "  <tbody>\n",
              "    <tr>\n",
              "      <th>0</th>\n",
              "      <td>6.4</td>\n",
              "      <td>2.8</td>\n",
              "      <td>5.6</td>\n",
              "      <td>2.2</td>\n",
              "    </tr>\n",
              "    <tr>\n",
              "      <th>1</th>\n",
              "      <td>5.0</td>\n",
              "      <td>2.3</td>\n",
              "      <td>3.3</td>\n",
              "      <td>1.0</td>\n",
              "    </tr>\n",
              "    <tr>\n",
              "      <th>2</th>\n",
              "      <td>4.9</td>\n",
              "      <td>2.5</td>\n",
              "      <td>4.5</td>\n",
              "      <td>1.7</td>\n",
              "    </tr>\n",
              "    <tr>\n",
              "      <th>3</th>\n",
              "      <td>4.9</td>\n",
              "      <td>3.1</td>\n",
              "      <td>1.5</td>\n",
              "      <td>0.1</td>\n",
              "    </tr>\n",
              "    <tr>\n",
              "      <th>4</th>\n",
              "      <td>5.7</td>\n",
              "      <td>3.8</td>\n",
              "      <td>1.7</td>\n",
              "      <td>0.3</td>\n",
              "    </tr>\n",
              "  </tbody>\n",
              "</table>\n",
              "</div>"
            ],
            "text/plain": [
              "   sepal_length  sepal_width  petal_length  petal_width\n",
              "0           6.4          2.8           5.6          2.2\n",
              "1           5.0          2.3           3.3          1.0\n",
              "2           4.9          2.5           4.5          1.7\n",
              "3           4.9          3.1           1.5          0.1\n",
              "4           5.7          3.8           1.7          0.3"
            ]
          },
          "metadata": {
            "tags": []
          },
          "execution_count": 53
        }
      ]
    },
    {
      "cell_type": "code",
      "metadata": {
        "id": "5SMoLUh_s8ie",
        "colab_type": "code",
        "colab": {
          "base_uri": "https://localhost:8080/",
          "height": 722
        },
        "outputId": "eaf4c5fc-b842-4996-fc24-f0137935bfba"
      },
      "source": [
        "model1 = tf.keras.Sequential([\n",
        "                              tf.keras.layers.Dense(64,activation='relu',input_shape=(4,)),\n",
        "                              tf.keras.layers.Dropout(0.2),\n",
        "                              tf.keras.layers.Dense(64,activation='relu'),\n",
        "                              tf.keras.layers.Dropout(0.2),\n",
        "                              tf.keras.layers.Dense(3,activation='softmax')\n",
        "])\n",
        "model1.compile(\n",
        "    optimizer='adam',\n",
        "    loss='sparse_categorical_crossentropy',\n",
        "    metrics=['accuracy']\n",
        ")\n",
        "model1.fit(train_X,train_Y,epochs=20)"
      ],
      "execution_count": 67,
      "outputs": [
        {
          "output_type": "stream",
          "text": [
            "Train on 120 samples\n",
            "Epoch 1/20\n",
            "120/120 [==============================] - 0s 2ms/sample - loss: 1.6556 - acc: 0.3583\n",
            "Epoch 2/20\n",
            "120/120 [==============================] - 0s 116us/sample - loss: 1.4092 - acc: 0.3083\n",
            "Epoch 3/20\n",
            "120/120 [==============================] - 0s 108us/sample - loss: 1.2170 - acc: 0.3833\n",
            "Epoch 4/20\n",
            "120/120 [==============================] - 0s 105us/sample - loss: 1.1522 - acc: 0.3667\n",
            "Epoch 5/20\n",
            "120/120 [==============================] - 0s 92us/sample - loss: 1.0824 - acc: 0.4250\n",
            "Epoch 6/20\n",
            "120/120 [==============================] - 0s 99us/sample - loss: 0.9555 - acc: 0.4750\n",
            "Epoch 7/20\n",
            "120/120 [==============================] - 0s 85us/sample - loss: 0.9563 - acc: 0.5583\n",
            "Epoch 8/20\n",
            "120/120 [==============================] - 0s 91us/sample - loss: 0.8912 - acc: 0.5583\n",
            "Epoch 9/20\n",
            "120/120 [==============================] - 0s 84us/sample - loss: 0.8265 - acc: 0.6167\n",
            "Epoch 10/20\n",
            "120/120 [==============================] - 0s 96us/sample - loss: 0.7976 - acc: 0.6833\n",
            "Epoch 11/20\n",
            "120/120 [==============================] - 0s 107us/sample - loss: 0.7544 - acc: 0.6417\n",
            "Epoch 12/20\n",
            "120/120 [==============================] - 0s 91us/sample - loss: 0.7157 - acc: 0.6833\n",
            "Epoch 13/20\n",
            "120/120 [==============================] - 0s 82us/sample - loss: 0.6729 - acc: 0.7000\n",
            "Epoch 14/20\n",
            "120/120 [==============================] - 0s 77us/sample - loss: 0.6321 - acc: 0.7417\n",
            "Epoch 15/20\n",
            "120/120 [==============================] - 0s 87us/sample - loss: 0.6139 - acc: 0.7500\n",
            "Epoch 16/20\n",
            "120/120 [==============================] - 0s 79us/sample - loss: 0.5817 - acc: 0.7417\n",
            "Epoch 17/20\n",
            "120/120 [==============================] - 0s 76us/sample - loss: 0.5613 - acc: 0.7083\n",
            "Epoch 18/20\n",
            "120/120 [==============================] - 0s 84us/sample - loss: 0.5254 - acc: 0.7833\n",
            "Epoch 19/20\n",
            "120/120 [==============================] - 0s 77us/sample - loss: 0.5329 - acc: 0.7583\n",
            "Epoch 20/20\n",
            "120/120 [==============================] - 0s 84us/sample - loss: 0.5414 - acc: 0.7250\n"
          ],
          "name": "stdout"
        },
        {
          "output_type": "execute_result",
          "data": {
            "text/plain": [
              "<tensorflow.python.keras.callbacks.History at 0x7f02d57432e8>"
            ]
          },
          "metadata": {
            "tags": []
          },
          "execution_count": 67
        }
      ]
    },
    {
      "cell_type": "code",
      "metadata": {
        "id": "rT8LNUmIvx29",
        "colab_type": "code",
        "colab": {
          "base_uri": "https://localhost:8080/",
          "height": 195
        },
        "outputId": "e5a30d1a-690e-465f-ca3c-88c16b42fe2a"
      },
      "source": [
        "test_X = df_test[column_names]\n",
        "test_Y = test_X.pop(\"species\")\n",
        "test_X.head()"
      ],
      "execution_count": 68,
      "outputs": [
        {
          "output_type": "execute_result",
          "data": {
            "text/html": [
              "<div>\n",
              "<style scoped>\n",
              "    .dataframe tbody tr th:only-of-type {\n",
              "        vertical-align: middle;\n",
              "    }\n",
              "\n",
              "    .dataframe tbody tr th {\n",
              "        vertical-align: top;\n",
              "    }\n",
              "\n",
              "    .dataframe thead th {\n",
              "        text-align: right;\n",
              "    }\n",
              "</style>\n",
              "<table border=\"1\" class=\"dataframe\">\n",
              "  <thead>\n",
              "    <tr style=\"text-align: right;\">\n",
              "      <th></th>\n",
              "      <th>sepal_length</th>\n",
              "      <th>sepal_width</th>\n",
              "      <th>petal_length</th>\n",
              "      <th>petal_width</th>\n",
              "    </tr>\n",
              "  </thead>\n",
              "  <tbody>\n",
              "    <tr>\n",
              "      <th>0</th>\n",
              "      <td>6.4</td>\n",
              "      <td>2.8</td>\n",
              "      <td>5.6</td>\n",
              "      <td>2.2</td>\n",
              "    </tr>\n",
              "    <tr>\n",
              "      <th>1</th>\n",
              "      <td>5.0</td>\n",
              "      <td>2.3</td>\n",
              "      <td>3.3</td>\n",
              "      <td>1.0</td>\n",
              "    </tr>\n",
              "    <tr>\n",
              "      <th>2</th>\n",
              "      <td>4.9</td>\n",
              "      <td>2.5</td>\n",
              "      <td>4.5</td>\n",
              "      <td>1.7</td>\n",
              "    </tr>\n",
              "    <tr>\n",
              "      <th>3</th>\n",
              "      <td>4.9</td>\n",
              "      <td>3.1</td>\n",
              "      <td>1.5</td>\n",
              "      <td>0.1</td>\n",
              "    </tr>\n",
              "    <tr>\n",
              "      <th>4</th>\n",
              "      <td>5.7</td>\n",
              "      <td>3.8</td>\n",
              "      <td>1.7</td>\n",
              "      <td>0.3</td>\n",
              "    </tr>\n",
              "  </tbody>\n",
              "</table>\n",
              "</div>"
            ],
            "text/plain": [
              "   sepal_length  sepal_width  petal_length  petal_width\n",
              "0           6.4          2.8           5.6          2.2\n",
              "1           5.0          2.3           3.3          1.0\n",
              "2           4.9          2.5           4.5          1.7\n",
              "3           4.9          3.1           1.5          0.1\n",
              "4           5.7          3.8           1.7          0.3"
            ]
          },
          "metadata": {
            "tags": []
          },
          "execution_count": 68
        }
      ]
    },
    {
      "cell_type": "code",
      "metadata": {
        "id": "EgDXj1y0u4PY",
        "colab_type": "code",
        "colab": {
          "base_uri": "https://localhost:8080/",
          "height": 67
        },
        "outputId": "6a6f706f-07d5-41ae-fedf-9b9d0edb841a"
      },
      "source": [
        "results = model1.evaluate(test_X,test_Y)\n",
        "for x,y in zip(model1.metrics_names,results):\n",
        "    print(\"{:20s}:{}\".format(x,y))"
      ],
      "execution_count": 69,
      "outputs": [
        {
          "output_type": "stream",
          "text": [
            "120/120 [==============================] - 0s 1ms/sample - loss: 0.4347 - acc: 0.9167\n",
            "loss                :0.43470325668652854\n",
            "acc                 :0.9166666865348816\n"
          ],
          "name": "stdout"
        }
      ]
    },
    {
      "cell_type": "code",
      "metadata": {
        "id": "Qd9BPfDx0D8C",
        "colab_type": "code",
        "colab": {
          "base_uri": "https://localhost:8080/",
          "height": 319
        },
        "outputId": "f64450c3-91d3-4922-e810-9de3fc73367e"
      },
      "source": [
        "model1.summary()"
      ],
      "execution_count": 57,
      "outputs": [
        {
          "output_type": "stream",
          "text": [
            "Model: \"sequential_17\"\n",
            "_________________________________________________________________\n",
            "Layer (type)                 Output Shape              Param #   \n",
            "=================================================================\n",
            "dense_48 (Dense)             (None, 64)                320       \n",
            "_________________________________________________________________\n",
            "dropout_27 (Dropout)         (None, 64)                0         \n",
            "_________________________________________________________________\n",
            "dense_49 (Dense)             (None, 64)                4160      \n",
            "_________________________________________________________________\n",
            "dropout_28 (Dropout)         (None, 64)                0         \n",
            "_________________________________________________________________\n",
            "dense_50 (Dense)             (None, 3)                 195       \n",
            "=================================================================\n",
            "Total params: 4,675\n",
            "Trainable params: 4,675\n",
            "Non-trainable params: 0\n",
            "_________________________________________________________________\n"
          ],
          "name": "stdout"
        }
      ]
    },
    {
      "cell_type": "code",
      "metadata": {
        "id": "2c_1ridvr0PY",
        "colab_type": "code",
        "colab": {
          "base_uri": "https://localhost:8080/",
          "height": 944
        },
        "outputId": "c3f5612f-df51-4bcc-b176-2048f71103bd"
      },
      "source": [
        "import seaborn as sns\n",
        "sns.pairplot(df_train,diag_kind='kde')"
      ],
      "execution_count": 58,
      "outputs": [
        {
          "output_type": "execute_result",
          "data": {
            "text/plain": [
              "<seaborn.axisgrid.PairGrid at 0x7f02d65a0668>"
            ]
          },
          "metadata": {
            "tags": []
          },
          "execution_count": 58
        },
        {
          "output_type": "display_data",
          "data": {
            "image/png": "[encoded data removed]",
            "text/plain": [
              "<Figure size 900x900 with 30 Axes>"
            ]
          },
          "metadata": {
            "tags": []
          }
        }
      ]
    },
    {
      "cell_type": "code",
      "metadata": {
        "id": "LfpAK-VksFqC",
        "colab_type": "code",
        "colab": {
          "base_uri": "https://localhost:8080/",
          "height": 340
        },
        "outputId": "f7a06858-76a4-4423-bafe-42694c6b81e0"
      },
      "source": [
        "corr_matrix = df_train.corr().round(2)\n",
        "sns.heatmap(data=corr_matrix,annot=True)"
      ],
      "execution_count": 59,
      "outputs": [
        {
          "output_type": "execute_result",
          "data": {
            "text/plain": [
              "<matplotlib.axes._subplots.AxesSubplot at 0x7f02d5ceb6a0>"
            ]
          },
          "metadata": {
            "tags": []
          },
          "execution_count": 59
        },
        {
          "output_type": "display_data",
          "data": {
            "image/png": "[encoded data removed]",
            "text/plain": [
              "<Figure size 432x288 with 2 Axes>"
            ]
          },
          "metadata": {
            "tags": []
          }
        }
      ]
    },
    {
      "cell_type": "markdown",
      "metadata": {
        "id": "VJlTx1evwR9n",
        "colab_type": "text"
      },
      "source": [
        "*Since Correlation between petal_width and petal_lenght are very close to one. We can remove one of the features safely*\n",
        "\n",
        "*sepal_length has more correlation with species (target label)*\n",
        "\n",
        "*Lets Train a model with sepal_length , petal_lenght and sepal_width features*"
      ]
    },
    {
      "cell_type": "code",
      "metadata": {
        "id": "lcPm-1X7wGBd",
        "colab_type": "code",
        "colab": {
          "base_uri": "https://localhost:8080/",
          "height": 722
        },
        "outputId": "ca6c5126-cfba-44df-a857-c2ad5ef119ad"
      },
      "source": [
        "model2 = tf.keras.Sequential([\n",
        "                              tf.keras.layers.Dense(64,activation='relu',input_shape=(3,)),\n",
        "                              tf.keras.layers.Dropout(0.2),\n",
        "                              tf.keras.layers.Dense(64,activation='relu'),\n",
        "                              tf.keras.layers.Dropout(0.2),\n",
        "                              tf.keras.layers.Dense(3,activation='softmax')\n",
        "])\n",
        "model2.compile(\n",
        "    optimizer='adam',\n",
        "    loss='sparse_categorical_crossentropy',\n",
        "    metrics=['accuracy']\n",
        ")\n",
        "X = train_X[['sepal_length','petal_length','sepal_width']]\n",
        "model2.fit(X,train_Y,epochs=20)"
      ],
      "execution_count": 76,
      "outputs": [
        {
          "output_type": "stream",
          "text": [
            "Train on 120 samples\n",
            "Epoch 1/20\n",
            "120/120 [==============================] - 0s 2ms/sample - loss: 1.1959 - acc: 0.3917\n",
            "Epoch 2/20\n",
            "120/120 [==============================] - 0s 116us/sample - loss: 1.1320 - acc: 0.3833\n",
            "Epoch 3/20\n",
            "120/120 [==============================] - 0s 112us/sample - loss: 1.0002 - acc: 0.4583\n",
            "Epoch 4/20\n",
            "120/120 [==============================] - 0s 78us/sample - loss: 0.9378 - acc: 0.5333\n",
            "Epoch 5/20\n",
            "120/120 [==============================] - 0s 89us/sample - loss: 0.9159 - acc: 0.5583\n",
            "Epoch 6/20\n",
            "120/120 [==============================] - 0s 91us/sample - loss: 0.7926 - acc: 0.6583\n",
            "Epoch 7/20\n",
            "120/120 [==============================] - 0s 81us/sample - loss: 0.8195 - acc: 0.6333\n",
            "Epoch 8/20\n",
            "120/120 [==============================] - 0s 80us/sample - loss: 0.6854 - acc: 0.7250\n",
            "Epoch 9/20\n",
            "120/120 [==============================] - 0s 82us/sample - loss: 0.7105 - acc: 0.6667\n",
            "Epoch 10/20\n",
            "120/120 [==============================] - 0s 90us/sample - loss: 0.6230 - acc: 0.7750\n",
            "Epoch 11/20\n",
            "120/120 [==============================] - 0s 82us/sample - loss: 0.6167 - acc: 0.7833\n",
            "Epoch 12/20\n",
            "120/120 [==============================] - 0s 93us/sample - loss: 0.5454 - acc: 0.7667\n",
            "Epoch 13/20\n",
            "120/120 [==============================] - 0s 82us/sample - loss: 0.5274 - acc: 0.7583\n",
            "Epoch 14/20\n",
            "120/120 [==============================] - 0s 100us/sample - loss: 0.5177 - acc: 0.7917\n",
            "Epoch 15/20\n",
            "120/120 [==============================] - 0s 99us/sample - loss: 0.4741 - acc: 0.7750\n",
            "Epoch 16/20\n",
            "120/120 [==============================] - 0s 92us/sample - loss: 0.5136 - acc: 0.7500\n",
            "Epoch 17/20\n",
            "120/120 [==============================] - 0s 107us/sample - loss: 0.5029 - acc: 0.7833\n",
            "Epoch 18/20\n",
            "120/120 [==============================] - 0s 95us/sample - loss: 0.4948 - acc: 0.7750\n",
            "Epoch 19/20\n",
            "120/120 [==============================] - 0s 99us/sample - loss: 0.4908 - acc: 0.7333\n",
            "Epoch 20/20\n",
            "120/120 [==============================] - 0s 89us/sample - loss: 0.4698 - acc: 0.7917\n"
          ],
          "name": "stdout"
        },
        {
          "output_type": "execute_result",
          "data": {
            "text/plain": [
              "<tensorflow.python.keras.callbacks.History at 0x7f02d52eff28>"
            ]
          },
          "metadata": {
            "tags": []
          },
          "execution_count": 76
        }
      ]
    },
    {
      "cell_type": "code",
      "metadata": {
        "id": "COmgpbdrxrZk",
        "colab_type": "code",
        "colab": {
          "base_uri": "https://localhost:8080/",
          "height": 67
        },
        "outputId": "24e95fbe-af27-4dbb-8ad9-8e09d5415ed1"
      },
      "source": [
        "X=test_X[['sepal_length','petal_length','sepal_width']]\n",
        "results = model2.evaluate(X,test_Y)\n",
        "for x,y in zip(model2.metrics_names,results):\n",
        "    print(\"{:20s}:{}\".format(x,y))"
      ],
      "execution_count": 77,
      "outputs": [
        {
          "output_type": "stream",
          "text": [
            "120/120 [==============================] - 0s 2ms/sample - loss: 0.3492 - acc: 0.8917\n",
            "loss                :0.3492143750190735\n",
            "acc                 :0.8916666507720947\n"
          ],
          "name": "stdout"
        }
      ]
    },
    {
      "cell_type": "code",
      "metadata": {
        "id": "T6J7dQZ5x4Pg",
        "colab_type": "code",
        "colab": {
          "base_uri": "https://localhost:8080/",
          "height": 319
        },
        "outputId": "af85dd75-51e0-490a-c757-6c0faff3b604"
      },
      "source": [
        "model2.summary()"
      ],
      "execution_count": 62,
      "outputs": [
        {
          "output_type": "stream",
          "text": [
            "Model: \"sequential_18\"\n",
            "_________________________________________________________________\n",
            "Layer (type)                 Output Shape              Param #   \n",
            "=================================================================\n",
            "dense_51 (Dense)             (None, 64)                192       \n",
            "_________________________________________________________________\n",
            "dropout_29 (Dropout)         (None, 64)                0         \n",
            "_________________________________________________________________\n",
            "dense_52 (Dense)             (None, 64)                4160      \n",
            "_________________________________________________________________\n",
            "dropout_30 (Dropout)         (None, 64)                0         \n",
            "_________________________________________________________________\n",
            "dense_53 (Dense)             (None, 3)                 195       \n",
            "=================================================================\n",
            "Total params: 4,547\n",
            "Trainable params: 4,547\n",
            "Non-trainable params: 0\n",
            "_________________________________________________________________\n"
          ],
          "name": "stdout"
        }
      ]
    },
    {
      "cell_type": "code",
      "metadata": {
        "id": "vc8TNdfq0KIO",
        "colab_type": "code",
        "colab": {}
      },
      "source": [
        ""
      ],
      "execution_count": 0,
      "outputs": []
    }
  ]
}