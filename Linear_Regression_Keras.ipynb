{
  "nbformat": 4,
  "nbformat_minor": 0,
  "metadata": {
    "colab": {
      "name": "Linear Regression Keras.ipynb",
      "provenance": [],
      "authorship_tag": "ABX9TyPAUn4clGwsPgavnMW37vtz",
      "include_colab_link": true
    },
    "kernelspec": {
      "name": "python3",
      "display_name": "Python 3"
    }
  },
  "cells": [
    {
      "cell_type": "markdown",
      "metadata": {
        "id": "view-in-github",
        "colab_type": "text"
      },
      "source": [
        "<a href=\"https://colab.research.google.com/github/jpradeesh3800/ml/blob/master/Linear_Regression_Keras.ipynb\" target=\"_parent\"><img src=\"https://colab.research.google.com/assets/colab-badge.svg\" alt=\"Open In Colab\"/></a>"
      ]
    },
    {
      "cell_type": "code",
      "metadata": {
        "id": "7bhLb_6jGofZ",
        "colab_type": "code",
        "colab": {
          "base_uri": "https://localhost:8080/",
          "height": 62
        },
        "outputId": "e0cefe7a-8205-4dc2-b66d-35405d828646"
      },
      "source": [
        "import tensorflow as tf\n",
        "import numpy as np\n",
        "import pandas as pd"
      ],
      "execution_count": 1,
      "outputs": [
        {
          "output_type": "display_data",
          "data": {
            "text/html": [
              "<p style=\"color: red;\">\n",
              "The default version of TensorFlow in Colab will soon switch to TensorFlow 2.x.<br>\n",
              "We recommend you <a href=\"https://www.tensorflow.org/guide/migrate\" target=\"_blank\">upgrade</a> now \n",
              "or ensure your notebook will continue to use TensorFlow 1.x via the <code>%tensorflow_version 1.x</code> magic:\n",
              "<a href=\"https://colab.research.google.com/notebooks/tensorflow_version.ipynb\" target=\"_blank\">more info</a>.</p>\n"
            ],
            "text/plain": [
              "<IPython.core.display.HTML object>"
            ]
          },
          "metadata": {
            "tags": []
          }
        }
      ]
    },
    {
      "cell_type": "markdown",
      "metadata": {
        "id": "uTxSLFCJO464",
        "colab_type": "text"
      },
      "source": [
        "\n",
        "\n",
        "1.   Comment = '\\t'  =>  ignores the info after a tab in each line\n",
        "2.   sep = ' ' => as columns are separated by space\n",
        "3.   na_values = '?' => replaces the Nan values with '?'\n",
        "4.   skipinitialspace = True => Removes the extra space after delimiter\n",
        "\n",
        "\n",
        "\n",
        "\n",
        "\n",
        "\n",
        "\n"
      ]
    },
    {
      "cell_type": "markdown",
      "metadata": {
        "id": "mt-F6iZ8QM7y",
        "colab_type": "text"
      },
      "source": [
        "*For Better UnderStanding Download the file manully and view it in text format.*"
      ]
    },
    {
      "cell_type": "code",
      "metadata": {
        "id": "-UAjR70BG4hZ",
        "colab_type": "code",
        "colab": {}
      },
      "source": [
        "column_names = ['MPG','Cylinders','Displacement','Horsepower','Weight',\n",
        "                'Acceleration', 'Model Year', 'Origin']\n",
        "df  = pd.read_csv(\"https://archive.ics.uci.edu/ml/machine-learning-databases/auto-mpg/auto-mpg.data\",\n",
        "                  names=column_names,sep=' ',comment='\\t',skipinitialspace = True,na_values='?')"
      ],
      "execution_count": 0,
      "outputs": []
    },
    {
      "cell_type": "code",
      "metadata": {
        "id": "pvZ-MbK-HDVG",
        "colab_type": "code",
        "colab": {
          "base_uri": "https://localhost:8080/",
          "height": 195
        },
        "outputId": "fe3177aa-b50c-4e66-f284-fa2c882c8b5b"
      },
      "source": [
        "df.head()"
      ],
      "execution_count": 19,
      "outputs": [
        {
          "output_type": "execute_result",
          "data": {
            "text/html": [
              "<div>\n",
              "<style scoped>\n",
              "    .dataframe tbody tr th:only-of-type {\n",
              "        vertical-align: middle;\n",
              "    }\n",
              "\n",
              "    .dataframe tbody tr th {\n",
              "        vertical-align: top;\n",
              "    }\n",
              "\n",
              "    .dataframe thead th {\n",
              "        text-align: right;\n",
              "    }\n",
              "</style>\n",
              "<table border=\"1\" class=\"dataframe\">\n",
              "  <thead>\n",
              "    <tr style=\"text-align: right;\">\n",
              "      <th></th>\n",
              "      <th>MPG</th>\n",
              "      <th>Cylinders</th>\n",
              "      <th>Displacement</th>\n",
              "      <th>Horsepower</th>\n",
              "      <th>Weight</th>\n",
              "      <th>Acceleration</th>\n",
              "      <th>Model Year</th>\n",
              "      <th>Origin</th>\n",
              "    </tr>\n",
              "  </thead>\n",
              "  <tbody>\n",
              "    <tr>\n",
              "      <th>0</th>\n",
              "      <td>18.0</td>\n",
              "      <td>8</td>\n",
              "      <td>307.0</td>\n",
              "      <td>130.0</td>\n",
              "      <td>3504.0</td>\n",
              "      <td>12.0</td>\n",
              "      <td>70</td>\n",
              "      <td>1</td>\n",
              "    </tr>\n",
              "    <tr>\n",
              "      <th>1</th>\n",
              "      <td>15.0</td>\n",
              "      <td>8</td>\n",
              "      <td>350.0</td>\n",
              "      <td>165.0</td>\n",
              "      <td>3693.0</td>\n",
              "      <td>11.5</td>\n",
              "      <td>70</td>\n",
              "      <td>1</td>\n",
              "    </tr>\n",
              "    <tr>\n",
              "      <th>2</th>\n",
              "      <td>18.0</td>\n",
              "      <td>8</td>\n",
              "      <td>318.0</td>\n",
              "      <td>150.0</td>\n",
              "      <td>3436.0</td>\n",
              "      <td>11.0</td>\n",
              "      <td>70</td>\n",
              "      <td>1</td>\n",
              "    </tr>\n",
              "    <tr>\n",
              "      <th>3</th>\n",
              "      <td>16.0</td>\n",
              "      <td>8</td>\n",
              "      <td>304.0</td>\n",
              "      <td>150.0</td>\n",
              "      <td>3433.0</td>\n",
              "      <td>12.0</td>\n",
              "      <td>70</td>\n",
              "      <td>1</td>\n",
              "    </tr>\n",
              "    <tr>\n",
              "      <th>4</th>\n",
              "      <td>17.0</td>\n",
              "      <td>8</td>\n",
              "      <td>302.0</td>\n",
              "      <td>140.0</td>\n",
              "      <td>3449.0</td>\n",
              "      <td>10.5</td>\n",
              "      <td>70</td>\n",
              "      <td>1</td>\n",
              "    </tr>\n",
              "  </tbody>\n",
              "</table>\n",
              "</div>"
            ],
            "text/plain": [
              "    MPG  Cylinders  Displacement  ...  Acceleration  Model Year  Origin\n",
              "0  18.0          8         307.0  ...          12.0          70       1\n",
              "1  15.0          8         350.0  ...          11.5          70       1\n",
              "2  18.0          8         318.0  ...          11.0          70       1\n",
              "3  16.0          8         304.0  ...          12.0          70       1\n",
              "4  17.0          8         302.0  ...          10.5          70       1\n",
              "\n",
              "[5 rows x 8 columns]"
            ]
          },
          "metadata": {
            "tags": []
          },
          "execution_count": 19
        }
      ]
    },
    {
      "cell_type": "code",
      "metadata": {
        "id": "v336hoSeHvp2",
        "colab_type": "code",
        "colab": {
          "base_uri": "https://localhost:8080/",
          "height": 34
        },
        "outputId": "f0370623-b4d7-42fa-8967-aef94717c6b2"
      },
      "source": [
        "df.shape"
      ],
      "execution_count": 9,
      "outputs": [
        {
          "output_type": "execute_result",
          "data": {
            "text/plain": [
              "(398, 1)"
            ]
          },
          "metadata": {
            "tags": []
          },
          "execution_count": 9
        }
      ]
    },
    {
      "cell_type": "code",
      "metadata": {
        "id": "dLpxCPCyHE1P",
        "colab_type": "code",
        "colab": {
          "base_uri": "https://localhost:8080/",
          "height": 34
        },
        "outputId": "ae3deee8-fb4c-4664-93d4-8f89341ab066"
      },
      "source": [
        "df.Origin.unique()"
      ],
      "execution_count": 21,
      "outputs": [
        {
          "output_type": "execute_result",
          "data": {
            "text/plain": [
              "array([1, 3, 2])"
            ]
          },
          "metadata": {
            "tags": []
          },
          "execution_count": 21
        }
      ]
    },
    {
      "cell_type": "code",
      "metadata": {
        "id": "h_bycoq9H0Bk",
        "colab_type": "code",
        "colab": {
          "base_uri": "https://localhost:8080/",
          "height": 34
        },
        "outputId": "d9562a77-2bdd-470e-a6f6-0574f8ff3508"
      },
      "source": [
        "df['Model Year'].unique()"
      ],
      "execution_count": 22,
      "outputs": [
        {
          "output_type": "execute_result",
          "data": {
            "text/plain": [
              "array([70, 71, 72, 73, 74, 75, 76, 77, 78, 79, 80, 81, 82])"
            ]
          },
          "metadata": {
            "tags": []
          },
          "execution_count": 22
        }
      ]
    },
    {
      "cell_type": "markdown",
      "metadata": {
        "id": "AGYVgMYLP4_i",
        "colab_type": "text"
      },
      "source": [
        "*Hence Origin and Model Year are Categorical*\n",
        "\n",
        "\n",
        "\n"
      ]
    },
    {
      "cell_type": "code",
      "metadata": {
        "id": "x74aQ0S6Mefv",
        "colab_type": "code",
        "colab": {
          "base_uri": "https://localhost:8080/",
          "height": 34
        },
        "outputId": "ef06f2f1-a039-4bd8-f711-24e5c77ead23"
      },
      "source": [
        "df.Cylinders.unique()"
      ],
      "execution_count": 23,
      "outputs": [
        {
          "output_type": "execute_result",
          "data": {
            "text/plain": [
              "array([8, 4, 6, 3, 5])"
            ]
          },
          "metadata": {
            "tags": []
          },
          "execution_count": 23
        }
      ]
    },
    {
      "cell_type": "code",
      "metadata": {
        "id": "UrKqlJoyMoc2",
        "colab_type": "code",
        "colab": {
          "base_uri": "https://localhost:8080/",
          "height": 168
        },
        "outputId": "e0a73f47-63e5-4d01-9b1f-25c402c20ad5"
      },
      "source": [
        "df.dtypes"
      ],
      "execution_count": 24,
      "outputs": [
        {
          "output_type": "execute_result",
          "data": {
            "text/plain": [
              "MPG             float64\n",
              "Cylinders         int64\n",
              "Displacement    float64\n",
              "Horsepower      float64\n",
              "Weight          float64\n",
              "Acceleration    float64\n",
              "Model Year        int64\n",
              "Origin            int64\n",
              "dtype: object"
            ]
          },
          "metadata": {
            "tags": []
          },
          "execution_count": 24
        }
      ]
    },
    {
      "cell_type": "code",
      "metadata": {
        "id": "evaw2GSVMt_r",
        "colab_type": "code",
        "colab": {
          "base_uri": "https://localhost:8080/",
          "height": 168
        },
        "outputId": "0d61745e-b8d1-45f8-de38-855e05454cf5"
      },
      "source": [
        "df.isnull().any()"
      ],
      "execution_count": 27,
      "outputs": [
        {
          "output_type": "execute_result",
          "data": {
            "text/plain": [
              "MPG             False\n",
              "Cylinders       False\n",
              "Displacement    False\n",
              "Horsepower       True\n",
              "Weight          False\n",
              "Acceleration    False\n",
              "Model Year      False\n",
              "Origin          False\n",
              "dtype: bool"
            ]
          },
          "metadata": {
            "tags": []
          },
          "execution_count": 27
        }
      ]
    },
    {
      "cell_type": "code",
      "metadata": {
        "id": "9hTTTBVEM1xz",
        "colab_type": "code",
        "colab": {
          "base_uri": "https://localhost:8080/",
          "height": 168
        },
        "outputId": "28dbde42-14cc-42c2-d9dd-49b8ea0ab3a5"
      },
      "source": [
        "df.isnull().sum()"
      ],
      "execution_count": 28,
      "outputs": [
        {
          "output_type": "execute_result",
          "data": {
            "text/plain": [
              "MPG             0\n",
              "Cylinders       0\n",
              "Displacement    0\n",
              "Horsepower      6\n",
              "Weight          0\n",
              "Acceleration    0\n",
              "Model Year      0\n",
              "Origin          0\n",
              "dtype: int64"
            ]
          },
          "metadata": {
            "tags": []
          },
          "execution_count": 28
        }
      ]
    },
    {
      "cell_type": "markdown",
      "metadata": {
        "id": "L4T9mNzlNTkS",
        "colab_type": "text"
      },
      "source": [
        "```Since There are only 6 na values out of 398 examples. We can simply drop those rows```"
      ]
    },
    {
      "cell_type": "code",
      "metadata": {
        "id": "U-V4YdZvNSWk",
        "colab_type": "code",
        "colab": {}
      },
      "source": [
        "df = df.dropna()"
      ],
      "execution_count": 0,
      "outputs": []
    },
    {
      "cell_type": "code",
      "metadata": {
        "id": "vatsGY2YNjyP",
        "colab_type": "code",
        "colab": {
          "base_uri": "https://localhost:8080/",
          "height": 168
        },
        "outputId": "9746381d-81f5-49e6-bb0a-fbff620b4fab"
      },
      "source": [
        "df.isnull().sum()"
      ],
      "execution_count": 30,
      "outputs": [
        {
          "output_type": "execute_result",
          "data": {
            "text/plain": [
              "MPG             0\n",
              "Cylinders       0\n",
              "Displacement    0\n",
              "Horsepower      0\n",
              "Weight          0\n",
              "Acceleration    0\n",
              "Model Year      0\n",
              "Origin          0\n",
              "dtype: int64"
            ]
          },
          "metadata": {
            "tags": []
          },
          "execution_count": 30
        }
      ]
    },
    {
      "cell_type": "markdown",
      "metadata": {
        "id": "7Ld33IylN05S",
        "colab_type": "text"
      },
      "source": [
        "```Although origin and model Year is a categorical feature,we are assuming it as numerical feature.If required, pop origin and model Year column and add 3 and 13 categoical features into df respectively```\n",
        "\n",
        "\n"
      ]
    },
    {
      "cell_type": "code",
      "metadata": {
        "id": "LHe_FKOGRYOe",
        "colab_type": "code",
        "colab": {}
      },
      "source": [
        "# Splitting data using Pandas\n",
        "train_data = df.sample(frac=0.8,random_state=0)\n",
        "test_data = df.drop(train_data.index)\n",
        "train_labels = train_data.pop('MPG')\n",
        "test_labels = test_data.pop(\"MPG\")"
      ],
      "execution_count": 0,
      "outputs": []
    },
    {
      "cell_type": "code",
      "metadata": {
        "id": "7bDTLm4iN0Lb",
        "colab_type": "code",
        "colab": {
          "base_uri": "https://localhost:8080/",
          "height": 386
        },
        "outputId": "669c3f79-9104-419d-8979-8718278c26b2"
      },
      "source": [
        "model = tf.keras.Sequential([\n",
        "                             tf.keras.layers.Dense(128,activation='relu',input_shape=(7,)),\n",
        "                             tf.keras.layers.Dense(1)\n",
        "])\n",
        "model.compile(\n",
        "    optimizer = 'adam',\n",
        "    loss = 'mae',\n",
        "    metrics=['mae','mse']\n",
        ")\n",
        "model.fit(train_data,train_labels,epochs=10)"
      ],
      "execution_count": 36,
      "outputs": [
        {
          "output_type": "stream",
          "text": [
            "Train on 314 samples\n",
            "Epoch 1/10\n",
            "314/314 [==============================] - 0s 237us/sample - loss: 80.2913 - mean_absolute_error: 80.2914 - mean_squared_error: 11888.6807\n",
            "Epoch 2/10\n",
            "314/314 [==============================] - 0s 68us/sample - loss: 20.5540 - mean_absolute_error: 20.5540 - mean_squared_error: 667.6259\n",
            "Epoch 3/10\n",
            "314/314 [==============================] - 0s 59us/sample - loss: 15.3507 - mean_absolute_error: 15.3507 - mean_squared_error: 345.4334\n",
            "Epoch 4/10\n",
            "314/314 [==============================] - 0s 59us/sample - loss: 11.7695 - mean_absolute_error: 11.7695 - mean_squared_error: 198.6384\n",
            "Epoch 5/10\n",
            "314/314 [==============================] - 0s 51us/sample - loss: 9.4190 - mean_absolute_error: 9.4190 - mean_squared_error: 137.1700\n",
            "Epoch 6/10\n",
            "314/314 [==============================] - 0s 50us/sample - loss: 7.4310 - mean_absolute_error: 7.4310 - mean_squared_error: 87.6182\n",
            "Epoch 7/10\n",
            "314/314 [==============================] - 0s 62us/sample - loss: 6.1779 - mean_absolute_error: 6.1779 - mean_squared_error: 65.2821\n",
            "Epoch 8/10\n",
            "314/314 [==============================] - 0s 57us/sample - loss: 5.5821 - mean_absolute_error: 5.5821 - mean_squared_error: 53.8242\n",
            "Epoch 9/10\n",
            "314/314 [==============================] - 0s 51us/sample - loss: 5.5578 - mean_absolute_error: 5.5578 - mean_squared_error: 51.6530\n",
            "Epoch 10/10\n",
            "314/314 [==============================] - 0s 55us/sample - loss: 5.1073 - mean_absolute_error: 5.1073 - mean_squared_error: 41.8944\n"
          ],
          "name": "stdout"
        },
        {
          "output_type": "execute_result",
          "data": {
            "text/plain": [
              "<tensorflow.python.keras.callbacks.History at 0x7f1b7da796d8>"
            ]
          },
          "metadata": {
            "tags": []
          },
          "execution_count": 36
        }
      ]
    },
    {
      "cell_type": "code",
      "metadata": {
        "id": "pmEwKYLTbaBa",
        "colab_type": "code",
        "colab": {
          "base_uri": "https://localhost:8080/",
          "height": 218
        },
        "outputId": "2c1b72b2-3f2a-44fa-cb3f-1197bf62db95"
      },
      "source": [
        "model.summary()"
      ],
      "execution_count": 53,
      "outputs": [
        {
          "output_type": "stream",
          "text": [
            "Model: \"sequential_2\"\n",
            "_________________________________________________________________\n",
            "Layer (type)                 Output Shape              Param #   \n",
            "=================================================================\n",
            "dense_2 (Dense)              (None, 128)               1024      \n",
            "_________________________________________________________________\n",
            "dense_3 (Dense)              (None, 1)                 129       \n",
            "=================================================================\n",
            "Total params: 1,153\n",
            "Trainable params: 1,153\n",
            "Non-trainable params: 0\n",
            "_________________________________________________________________\n"
          ],
          "name": "stdout"
        }
      ]
    },
    {
      "cell_type": "code",
      "metadata": {
        "id": "HWQoWbBKNmB-",
        "colab_type": "code",
        "colab": {
          "base_uri": "https://localhost:8080/",
          "height": 84
        },
        "outputId": "c12504cb-35e2-4f9f-ecf1-af91125a9aac"
      },
      "source": [
        "results = model.evaluate(test_data,test_labels)\n",
        "for x,y in zip(model.metrics_names,results):\n",
        "    print(\"{:20s}:{}\".format(x,y))"
      ],
      "execution_count": 49,
      "outputs": [
        {
          "output_type": "stream",
          "text": [
            "78/78 [==============================] - 0s 73us/sample - loss: 4.9879 - mean_absolute_error: 4.9879 - mean_squared_error: 43.6871\n",
            "loss                :4.987913156167055\n",
            "mean_absolute_error :4.987913131713867\n",
            "mean_squared_error  :43.68705368041992\n"
          ],
          "name": "stdout"
        }
      ]
    },
    {
      "cell_type": "code",
      "metadata": {
        "id": "hULRT_zfSYvm",
        "colab_type": "code",
        "colab": {
          "base_uri": "https://localhost:8080/",
          "height": 764
        },
        "outputId": "29680168-5dcf-4953-ef2c-6f800d940313"
      },
      "source": [
        "import seaborn as sns\n",
        "sns.pairplot(df[['MPG',\"Cylinders\",\"Displacement\",\"Weight\"]],diag_kind='kde')"
      ],
      "execution_count": 41,
      "outputs": [
        {
          "output_type": "execute_result",
          "data": {
            "text/plain": [
              "<seaborn.axisgrid.PairGrid at 0x7f1b7d9bf390>"
            ]
          },
          "metadata": {
            "tags": []
          },
          "execution_count": 41
        },
        {
          "output_type": "display_data",
          "data": {
            "image/png": "[encoded data removed]",
            "text/plain": [
              "<Figure size 720x720 with 20 Axes>"
            ]
          },
          "metadata": {
            "tags": []
          }
        }
      ]
    },
    {
      "cell_type": "code",
      "metadata": {
        "id": "LERdw6nQaFLp",
        "colab_type": "code",
        "colab": {
          "base_uri": "https://localhost:8080/",
          "height": 345
        },
        "outputId": "2bc10867-3010-465c-c652-eda46621deab"
      },
      "source": [
        "correlation_matrix = train_data.corr().round(2)\n",
        "sns.heatmap(data = correlation_matrix,annot= True)"
      ],
      "execution_count": 52,
      "outputs": [
        {
          "output_type": "execute_result",
          "data": {
            "text/plain": [
              "<matplotlib.axes._subplots.AxesSubplot at 0x7f1b770d1550>"
            ]
          },
          "metadata": {
            "tags": []
          },
          "execution_count": 52
        },
        {
          "output_type": "display_data",
          "data": {
            "image/png": "[encoded data removed]",
            "text/plain": [
              "<Figure size 432x288 with 2 Axes>"
            ]
          },
          "metadata": {
            "tags": []
          }
        }
      ]
    },
    {
      "cell_type": "markdown",
      "metadata": {
        "id": "fwHqsKWQctBL",
        "colab_type": "text"
      },
      "source": [
        "From This Correlation Matrix ,We can observe that\n",
        "1.   Cylinders\n",
        "2.   Displacements\n",
        "3.   Horsepower\n",
        "4.   Weight\n",
        "\n",
        "These 4 features are closely related as their correlation is close to 1.\n",
        "We can also observe that Displacement and other 3 features are more than 0.9\n",
        "Hence,Lets Train a model where Cylinders,Weight,Horsepower being removed and check its accuracy.\n"
      ]
    },
    {
      "cell_type": "code",
      "metadata": {
        "id": "RQlAHt2WY1Op",
        "colab_type": "code",
        "colab": {
          "base_uri": "https://localhost:8080/",
          "height": 386
        },
        "outputId": "febae211-255b-47ae-fe2e-e3412fdc8aac"
      },
      "source": [
        "simple_model = tf.keras.Sequential([\n",
        "                             tf.keras.layers.Dense(128,activation='relu',input_shape=(4,)),\n",
        "                             tf.keras.layers.Dense(1)\n",
        "])\n",
        "simple_model.compile(\n",
        "    optimizer = 'adam',\n",
        "    loss = 'mae',\n",
        "    metrics=['mae','mse']\n",
        ")\n",
        "train_X =train_data[['Acceleration','Model Year','Origin',\"Displacement\"]]\n",
        "simple_model.fit(train_X,train_labels,epochs=10)"
      ],
      "execution_count": 59,
      "outputs": [
        {
          "output_type": "stream",
          "text": [
            "Train on 314 samples\n",
            "Epoch 1/10\n",
            "314/314 [==============================] - 0s 237us/sample - loss: 13.0979 - mean_absolute_error: 13.0979 - mean_squared_error: 232.3353\n",
            "Epoch 2/10\n",
            "314/314 [==============================] - 0s 55us/sample - loss: 7.8127 - mean_absolute_error: 7.8127 - mean_squared_error: 92.8598\n",
            "Epoch 3/10\n",
            "314/314 [==============================] - 0s 49us/sample - loss: 4.5590 - mean_absolute_error: 4.5590 - mean_squared_error: 33.7890\n",
            "Epoch 4/10\n",
            "314/314 [==============================] - 0s 52us/sample - loss: 3.3257 - mean_absolute_error: 3.3257 - mean_squared_error: 18.5970\n",
            "Epoch 5/10\n",
            "314/314 [==============================] - 0s 52us/sample - loss: 3.1702 - mean_absolute_error: 3.1702 - mean_squared_error: 16.7488\n",
            "Epoch 6/10\n",
            "314/314 [==============================] - 0s 52us/sample - loss: 2.8617 - mean_absolute_error: 2.8617 - mean_squared_error: 15.1557\n",
            "Epoch 7/10\n",
            "314/314 [==============================] - 0s 52us/sample - loss: 2.8624 - mean_absolute_error: 2.8624 - mean_squared_error: 15.7948\n",
            "Epoch 8/10\n",
            "314/314 [==============================] - 0s 58us/sample - loss: 2.7641 - mean_absolute_error: 2.7641 - mean_squared_error: 14.5831\n",
            "Epoch 9/10\n",
            "314/314 [==============================] - 0s 49us/sample - loss: 2.6893 - mean_absolute_error: 2.6893 - mean_squared_error: 14.0036\n",
            "Epoch 10/10\n",
            "314/314 [==============================] - 0s 70us/sample - loss: 2.6565 - mean_absolute_error: 2.6565 - mean_squared_error: 13.7411\n"
          ],
          "name": "stdout"
        },
        {
          "output_type": "execute_result",
          "data": {
            "text/plain": [
              "<tensorflow.python.keras.callbacks.History at 0x7f1b76eed080>"
            ]
          },
          "metadata": {
            "tags": []
          },
          "execution_count": 59
        }
      ]
    },
    {
      "cell_type": "code",
      "metadata": {
        "id": "jchzOvjjb9lz",
        "colab_type": "code",
        "colab": {
          "base_uri": "https://localhost:8080/",
          "height": 218
        },
        "outputId": "43cdb3f4-ae00-4ee4-8a91-b83d599f256a"
      },
      "source": [
        "simple_model.summary()"
      ],
      "execution_count": 60,
      "outputs": [
        {
          "output_type": "stream",
          "text": [
            "Model: \"sequential_4\"\n",
            "_________________________________________________________________\n",
            "Layer (type)                 Output Shape              Param #   \n",
            "=================================================================\n",
            "dense_6 (Dense)              (None, 128)               640       \n",
            "_________________________________________________________________\n",
            "dense_7 (Dense)              (None, 1)                 129       \n",
            "=================================================================\n",
            "Total params: 769\n",
            "Trainable params: 769\n",
            "Non-trainable params: 0\n",
            "_________________________________________________________________\n"
          ],
          "name": "stdout"
        }
      ]
    },
    {
      "cell_type": "markdown",
      "metadata": {
        "id": "TaHM-tSgeZJ9",
        "colab_type": "text"
      },
      "source": [
        "*No of Parameters has decreased by a factor of 2 approx*"
      ]
    },
    {
      "cell_type": "code",
      "metadata": {
        "id": "F7Njq8UicEKw",
        "colab_type": "code",
        "colab": {
          "base_uri": "https://localhost:8080/",
          "height": 84
        },
        "outputId": "70142b3e-cc57-4ac4-8ad2-68c105f600f2"
      },
      "source": [
        "test_X =test_data[['Acceleration','Model Year','Origin',\"Displacement\"]]\n",
        "results = simple_model.evaluate(test_X,test_labels)\n",
        "for x,y in zip(simple_model.metrics_names,results):\n",
        "    print(\"{:20s}:{}\".format(x,y))"
      ],
      "execution_count": 61,
      "outputs": [
        {
          "output_type": "stream",
          "text": [
            "78/78 [==============================] - 0s 477us/sample - loss: 2.4938 - mean_absolute_error: 2.4938 - mean_squared_error: 12.4942\n",
            "loss                :2.4937552916697965\n",
            "mean_absolute_error :2.493755340576172\n",
            "mean_squared_error  :12.494185447692871\n"
          ],
          "name": "stdout"
        }
      ]
    },
    {
      "cell_type": "markdown",
      "metadata": {
        "id": "fprlDCgReB7-",
        "colab_type": "text"
      },
      "source": [
        "*We can observe that Loss has decreased by a factor of 2. Removing some features has drastically improved the performance.*\n",
        "\n",
        "*We can also make origin column as categorical feature to obtain more accuracy*"
      ]
    },
    {
      "cell_type": "code",
      "metadata": {
        "id": "Zh3E9htkcL_0",
        "colab_type": "code",
        "colab": {
          "base_uri": "https://localhost:8080/",
          "height": 790
        },
        "outputId": "553232a6-223f-4f03-c239-76f41abf536e"
      },
      "source": [
        "simple_model2 = tf.keras.Sequential([\n",
        "                             tf.keras.layers.Dense(128,activation='relu',input_shape=(6,)),\n",
        "                             tf.keras.layers.Dense(1)\n",
        "])\n",
        "simple_model2.compile(\n",
        "    optimizer = 'adam',\n",
        "    loss = 'mae',\n",
        "    metrics=['mae','mse']\n",
        ")\n",
        "train_X =train_data[['Acceleration','Model Year',\"Displacement\"]]\n",
        "train_X['origin1'] = 1.0*(train_data['Origin'] == 1)\n",
        "train_X['origin2'] = 1.0*(train_data['Origin'] == 2)\n",
        "train_X['origin3'] = 1.0*(train_data['Origin'] == 3)\n",
        "print(train_X.head())\n",
        "simple_model2.fit(train_X,train_labels,epochs=10)"
      ],
      "execution_count": 65,
      "outputs": [
        {
          "output_type": "stream",
          "text": [
            "/usr/local/lib/python3.6/dist-packages/ipykernel_launcher.py:11: SettingWithCopyWarning: \n",
            "A value is trying to be set on a copy of a slice from a DataFrame.\n",
            "Try using .loc[row_indexer,col_indexer] = value instead\n",
            "\n",
            "See the caveats in the documentation: http://pandas.pydata.org/pandas-docs/stable/user_guide/indexing.html#returning-a-view-versus-a-copy\n",
            "  # This is added back by InteractiveShellApp.init_path()\n",
            "/usr/local/lib/python3.6/dist-packages/ipykernel_launcher.py:12: SettingWithCopyWarning: \n",
            "A value is trying to be set on a copy of a slice from a DataFrame.\n",
            "Try using .loc[row_indexer,col_indexer] = value instead\n",
            "\n",
            "See the caveats in the documentation: http://pandas.pydata.org/pandas-docs/stable/user_guide/indexing.html#returning-a-view-versus-a-copy\n",
            "  if sys.path[0] == '':\n",
            "/usr/local/lib/python3.6/dist-packages/ipykernel_launcher.py:13: SettingWithCopyWarning: \n",
            "A value is trying to be set on a copy of a slice from a DataFrame.\n",
            "Try using .loc[row_indexer,col_indexer] = value instead\n",
            "\n",
            "See the caveats in the documentation: http://pandas.pydata.org/pandas-docs/stable/user_guide/indexing.html#returning-a-view-versus-a-copy\n",
            "  del sys.path[0]\n"
          ],
          "name": "stderr"
        },
        {
          "output_type": "stream",
          "text": [
            "     Acceleration  Model Year  Displacement  origin1  origin2  origin3\n",
            "146          14.5          74          90.0      1.0      0.0      0.0\n",
            "282          17.3          79         140.0      1.0      0.0      0.0\n",
            "69           13.5          72         350.0      1.0      0.0      0.0\n",
            "378          14.7          82         105.0      1.0      0.0      0.0\n",
            "331          18.0          80          97.0      0.0      0.0      1.0\n",
            "Train on 314 samples\n",
            "Epoch 1/10\n",
            "314/314 [==============================] - 0s 304us/sample - loss: 16.1512 - mean_absolute_error: 16.1512 - mean_squared_error: 348.2477\n",
            "Epoch 2/10\n",
            "314/314 [==============================] - 0s 67us/sample - loss: 12.5856 - mean_absolute_error: 12.5856 - mean_squared_error: 210.1614\n",
            "Epoch 3/10\n",
            "314/314 [==============================] - 0s 60us/sample - loss: 7.3734 - mean_absolute_error: 7.3734 - mean_squared_error: 83.1557\n",
            "Epoch 4/10\n",
            "314/314 [==============================] - 0s 56us/sample - loss: 3.8097 - mean_absolute_error: 3.8097 - mean_squared_error: 23.9373\n",
            "Epoch 5/10\n",
            "314/314 [==============================] - 0s 59us/sample - loss: 3.0540 - mean_absolute_error: 3.0540 - mean_squared_error: 16.1373\n",
            "Epoch 6/10\n",
            "314/314 [==============================] - 0s 59us/sample - loss: 2.9400 - mean_absolute_error: 2.9400 - mean_squared_error: 15.1677\n",
            "Epoch 7/10\n",
            "314/314 [==============================] - 0s 65us/sample - loss: 2.6978 - mean_absolute_error: 2.6978 - mean_squared_error: 14.1489\n",
            "Epoch 8/10\n",
            "314/314 [==============================] - 0s 67us/sample - loss: 2.6886 - mean_absolute_error: 2.6886 - mean_squared_error: 14.1399\n",
            "Epoch 9/10\n",
            "314/314 [==============================] - 0s 69us/sample - loss: 2.6482 - mean_absolute_error: 2.6482 - mean_squared_error: 13.5354\n",
            "Epoch 10/10\n",
            "314/314 [==============================] - 0s 57us/sample - loss: 2.6145 - mean_absolute_error: 2.6145 - mean_squared_error: 13.4026\n"
          ],
          "name": "stdout"
        },
        {
          "output_type": "execute_result",
          "data": {
            "text/plain": [
              "<tensorflow.python.keras.callbacks.History at 0x7f1b76b229e8>"
            ]
          },
          "metadata": {
            "tags": []
          },
          "execution_count": 65
        }
      ]
    },
    {
      "cell_type": "code",
      "metadata": {
        "id": "lFpLEjhWeBUw",
        "colab_type": "code",
        "colab": {
          "base_uri": "https://localhost:8080/",
          "height": 218
        },
        "outputId": "305503d3-bd5e-4e22-d911-70775b584c40"
      },
      "source": [
        "simple_model2.summary()"
      ],
      "execution_count": 66,
      "outputs": [
        {
          "output_type": "stream",
          "text": [
            "Model: \"sequential_8\"\n",
            "_________________________________________________________________\n",
            "Layer (type)                 Output Shape              Param #   \n",
            "=================================================================\n",
            "dense_14 (Dense)             (None, 128)               896       \n",
            "_________________________________________________________________\n",
            "dense_15 (Dense)             (None, 1)                 129       \n",
            "=================================================================\n",
            "Total params: 1,025\n",
            "Trainable params: 1,025\n",
            "Non-trainable params: 0\n",
            "_________________________________________________________________\n"
          ],
          "name": "stdout"
        }
      ]
    },
    {
      "cell_type": "code",
      "metadata": {
        "id": "RI2pdiacgAGn",
        "colab_type": "code",
        "colab": {
          "base_uri": "https://localhost:8080/",
          "height": 386
        },
        "outputId": "ee3fe5ad-5360-4c1c-cb07-c13dbd2ef513"
      },
      "source": [
        "test_X =test_data[['Acceleration','Model Year',\"Displacement\"]]\n",
        "test_X['origin1'] = 1.0*(test_data.Origin == 1)\n",
        "test_X['origin2'] = 1.0*(test_data.Origin == 2)\n",
        "test_X['origin3'] = 1.0*(test_data.Origin == 3)\n",
        "results = simple_model2.evaluate(test_X,test_labels)\n",
        "for x,y in zip(simple_model2.metrics_names,results):\n",
        "    print(\"{:20s}:{}\".format(x,y))"
      ],
      "execution_count": 69,
      "outputs": [
        {
          "output_type": "stream",
          "text": [
            "78/78 [==============================] - 0s 95us/sample - loss: 2.4444 - mean_absolute_error: 2.4444 - mean_squared_error: 11.3079\n",
            "loss                :2.4444015881954093\n",
            "mean_absolute_error :2.444401741027832\n",
            "mean_squared_error  :11.307881355285645\n"
          ],
          "name": "stdout"
        },
        {
          "output_type": "stream",
          "text": [
            "/usr/local/lib/python3.6/dist-packages/ipykernel_launcher.py:2: SettingWithCopyWarning: \n",
            "A value is trying to be set on a copy of a slice from a DataFrame.\n",
            "Try using .loc[row_indexer,col_indexer] = value instead\n",
            "\n",
            "See the caveats in the documentation: http://pandas.pydata.org/pandas-docs/stable/user_guide/indexing.html#returning-a-view-versus-a-copy\n",
            "  \n",
            "/usr/local/lib/python3.6/dist-packages/ipykernel_launcher.py:3: SettingWithCopyWarning: \n",
            "A value is trying to be set on a copy of a slice from a DataFrame.\n",
            "Try using .loc[row_indexer,col_indexer] = value instead\n",
            "\n",
            "See the caveats in the documentation: http://pandas.pydata.org/pandas-docs/stable/user_guide/indexing.html#returning-a-view-versus-a-copy\n",
            "  This is separate from the ipykernel package so we can avoid doing imports until\n",
            "/usr/local/lib/python3.6/dist-packages/ipykernel_launcher.py:4: SettingWithCopyWarning: \n",
            "A value is trying to be set on a copy of a slice from a DataFrame.\n",
            "Try using .loc[row_indexer,col_indexer] = value instead\n",
            "\n",
            "See the caveats in the documentation: http://pandas.pydata.org/pandas-docs/stable/user_guide/indexing.html#returning-a-view-versus-a-copy\n",
            "  after removing the cwd from sys.path.\n"
          ],
          "name": "stderr"
        }
      ]
    },
    {
      "cell_type": "code",
      "metadata": {
        "id": "RHbGNSpCgS4M",
        "colab_type": "code",
        "colab": {}
      },
      "source": [
        ""
      ],
      "execution_count": 0,
      "outputs": []
    }
  ]
}